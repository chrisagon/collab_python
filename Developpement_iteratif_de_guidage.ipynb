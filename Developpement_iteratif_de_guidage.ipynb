{
  "nbformat": 4,
  "nbformat_minor": 0,
  "metadata": {
    "colab": {
      "provenance": [],
      "authorship_tag": "ABX9TyMwk/Mx5esEzf8R+TOqwwoK",
      "include_colab_link": true
    },
    "kernelspec": {
      "name": "python3",
      "display_name": "Python 3"
    },
    "language_info": {
      "name": "python"
    }
  },
  "cells": [
    {
      "cell_type": "markdown",
      "metadata": {
        "id": "view-in-github",
        "colab_type": "text"
      },
      "source": [
        "<a href=\"https://colab.research.google.com/github/chrisagon/collab_python/blob/master/Developpement_iteratif_de_guidage.ipynb\" target=\"_parent\"><img src=\"https://colab.research.google.com/assets/colab-badge.svg\" alt=\"Open In Colab\"/></a>"
      ]
    },
    {
      "cell_type": "markdown",
      "source": [
        "# Développement itératif d'invites de guidage\n",
        "Dans cette leçon, vous analyserez et affinerez vos invites de manière itérative afin de générer un texte marketing à partir d'une fiche produit.\n",
        "\n",
        "## Configuration"
      ],
      "metadata": {
        "id": "4BVrfqGOOKMC"
      }
    },
    {
      "cell_type": "code",
      "source": [
        "!pip install openai\n",
        "!pip install python-dotenv"
      ],
      "metadata": {
        "id": "kDax22XpQS8f"
      },
      "execution_count": null,
      "outputs": []
    },
    {
      "cell_type": "code",
      "execution_count": 7,
      "metadata": {
        "id": "sFv3tvRUN0Sp"
      },
      "outputs": [],
      "source": [
        "import openai\n",
        "import os\n",
        "\n",
        "from dotenv import load_dotenv, find_dotenv\n",
        "_ = load_dotenv(find_dotenv()) # read local .env file\n",
        "\n",
        "# openai.api_key  = os.getenv('OPENAI_API_KEY')\n",
        "openai.api_key = 'sk-xxxxxxiStgFrUYkWs57xT3BlbkFJYwQoD6yGaxxxxxxxxx'\n"
      ]
    },
    {
      "cell_type": "code",
      "source": [
        "def get_completion(prompt, model=\"gpt-3.5-turbo\"):\n",
        "    messages = [{\"role\": \"user\", \"content\": prompt}]\n",
        "    response = openai.ChatCompletion.create(\n",
        "        model=model,\n",
        "        messages=messages,\n",
        "        temperature=0, # this is the degree of randomness of the model's output\n",
        "    )\n",
        "    return response.choices[0].message[\"content\"]"
      ],
      "metadata": {
        "id": "Lz6b9HTyOVnz"
      },
      "execution_count": 8,
      "outputs": []
    },
    {
      "cell_type": "markdown",
      "source": [
        "## Générer une description marketing d'un produit à partir d'une fiche produit"
      ],
      "metadata": {
        "id": "hdjHGLXZOfNg"
      }
    },
    {
      "cell_type": "code",
      "source": [
        "fact_sheet_chair = \"\"\"\n",
        "APERÇU\n",
        "- Fait partie d'une belle famille de meubles de bureau inspirés du milieu du siècle, comprenant des classeurs, des bureaux, des bibliothèques, des tables de réunion, etc.\n",
        "- Plusieurs options de couleurs de coque et de finitions de base.\n",
        "- Disponible avec un dossier et un rembourrage avant en plastique (SWC-100) ou avec un rembourrage complet (SWC-110) dans 10 options de tissu et 6 options de cuir.\n",
        "- Les options de finition de la base sont : acier inoxydable, noir mat, noir mat, blanc brillant ou chrome.\n",
        "- La chaise est disponible avec ou sans accoudoirs.\n",
        "- Convient à la maison ou à l'entreprise.\n",
        "- Qualifié pour un usage contractuel.\n",
        "\n",
        "CONSTRUCTION\n",
        "- Base en aluminium plastifié à 5 roues.\n",
        "- Réglage pneumatique de la chaise pour une montée/descente facile.\n",
        "\n",
        "DIMENSIONS\n",
        "- LARGEUR 53 CM | 20.87\"\n",
        "- PROFONDEUR 51 CM | 20.08\"\n",
        "- HAUTEUR 80 CM | 31.50\"\n",
        "- HAUTEUR D'ASSISE 44 CM | 17.32\"\n",
        "- PROFONDEUR DU SIÈGE 41 CM | 16.14\"\n",
        "\n",
        "OPTIONS\n",
        "- Options de roulettes pour sols souples ou durs.\n",
        "- Deux choix de densités de mousse d'assise : \n",
        " moyenne (1,8 lb/pi3) ou élevée (2,8 lb/pi3).\n",
        "- Accoudoirs sans bras ou accoudoirs 8 positions en PU \n",
        "\n",
        "MATÉRIAUX\n",
        "BASE DE LA COQUE PLIANTE\n",
        "- Aluminium moulé avec revêtement en nylon modifié PA6/PA66.\n",
        "- Épaisseur de la coque : 10 mm.\n",
        "ASSISE\n",
        "- Mousse HD36\n",
        "\n",
        "PAYS D'ORIGINE\n",
        "- Italie\n",
        "\"\"\""
      ],
      "metadata": {
        "id": "9NB-hKfuPcRj"
      },
      "execution_count": 9,
      "outputs": []
    },
    {
      "cell_type": "code",
      "source": [
        "prompt = f\"\"\"\n",
        "Votre tâche consiste à aider une équipe de marketing à créer une \n",
        "description d'un produit pour un site web de vente au détail \n",
        "sur la base d'une fiche technique.\n",
        "\n",
        "Rédigez une description du produit en vous basant sur les informations \n",
        "fournies dans les spécifications techniques délimitées par des \n",
        "par des triples crochets.\n",
        "\n",
        "Spécifications techniques : ```{fact_sheet_chair}```\n",
        "\"\"\"\n",
        "response = get_completion(prompt)\n",
        "print(response)\n"
      ],
      "metadata": {
        "id": "bhqTnhgEPWlM"
      },
      "execution_count": null,
      "outputs": []
    },
    {
      "cell_type": "markdown",
      "source": [
        "## Problème 1 : Le texte est trop long \n",
        "- Limitez le nombre de mots/phrases/caractères."
      ],
      "metadata": {
        "id": "kXZPucWjQx51"
      }
    },
    {
      "cell_type": "code",
      "source": [
        "prompt = f\"\"\"\n",
        "Votre tâche consiste à aider une équipe de marketing à créer une \n",
        "description d'un produit pour un site web de vente au détail \n",
        "sur la base d'une fiche technique.\n",
        "\n",
        "Rédigez une description du produit en vous basant sur les informations \n",
        "fournies dans les spécifications techniques délimitées par des \n",
        "par des triples crochets.\n",
        "\n",
        "Utilisez au maximum 50 mots.\n",
        "\n",
        "Spécifications techniques : ```{fact_sheet_chair}```\n",
        "\"\"\"\n",
        "response = get_completion(prompt)\n",
        "print(response)\n"
      ],
      "metadata": {
        "id": "KLZf0vIIQ8Bd"
      },
      "execution_count": null,
      "outputs": []
    },
    {
      "cell_type": "code",
      "source": [
        "len(response)"
      ],
      "metadata": {
        "id": "x9MNzVozRGTN"
      },
      "execution_count": null,
      "outputs": []
    },
    {
      "cell_type": "markdown",
      "source": [
        "## Problème 2. Le texte se concentre sur les mauvais détails\n",
        "- Demandez-lui de se concentrer sur les aspects pertinents pour le public visé."
      ],
      "metadata": {
        "id": "QzXghJBsRYnK"
      }
    },
    {
      "cell_type": "code",
      "source": [
        "prompt = f\"\"\"\n",
        "Votre tâche consiste à aider une équipe de marketing à créer une description d'un produit pour un site web de vente au détail sur la base d'une fiche technique.\n",
        "\n",
        "Rédigez une description du produit en vous basant sur les informations fournies dans les spécifications techniques délimitées par des trois points d'interrogation.\n",
        "\n",
        "La description est destinée aux détaillants de meubles, doit donc être de nature technique et se concentrer sur les matériaux dont le produit est constitué.\n",
        "\n",
        "Elle ne doit pas dépasser 50 mots.\n",
        "\n",
        "Spécifications techniques : ```{fact_sheet_chair}```\n",
        "\"\"\"\n",
        "response = get_completion(prompt)\n",
        "print(response)"
      ],
      "metadata": {
        "id": "7elbj3Y8RxNc"
      },
      "execution_count": null,
      "outputs": []
    },
    {
      "cell_type": "code",
      "source": [
        "prompt = f\"\"\"\n",
        "Votre tâche consiste à aider une équipe de marketing à créer une description d'un produit pour un site web de vente au détail sur la base d'une fiche technique.\n",
        "\n",
        "Rédigez une description du produit en vous basant sur les informations fournies dans les spécifications techniques délimitées par des trois points d'interrogation.\n",
        "\n",
        "La description est destinée aux détaillants de meubles, doit donc être de nature technique et se concentrer sur les matériaux dont le produit est constitué.\n",
        "\n",
        "À la fin de la description, incluez tous les 7 caractères de l ID de produit à 7 caractères dans la spécification techni`que.\n",
        "\n",
        "Utilisez au maximum 50 mots.\n",
        "\n",
        "Spécifications techniques : ```{fact_sheet_chair}```\n",
        "\"\"\"\n",
        "response = get_completion(prompt)\n",
        "print(response)"
      ],
      "metadata": {
        "id": "Fe0k4wbISBk5"
      },
      "execution_count": null,
      "outputs": []
    },
    {
      "cell_type": "markdown",
      "source": [
        "## Problème 3. La description a besoin d'un tableau de dimensions\n",
        "- Demandez-lui d'extraire des informations et de les organiser dans un tableau."
      ],
      "metadata": {
        "id": "kyQQ-ScuSoQR"
      }
    },
    {
      "cell_type": "code",
      "source": [
        "prompt = f\"\"\"\n",
        "Votre tâche consiste à aider une équipe de marketing à créer une description d'un produit pour un site web de vente au détail, sur la base d'une fiche technique.\n",
        "\n",
        "Rédigez une description du produit en vous basant sur les informations fournies dans les spécifications techniques délimitées par des trois points d'interrogation.\n",
        "\n",
        "La description est destinée aux détaillants de meubles, doit donc être de nature technique et se concentrer sur les matériaux dont le produit est constitué.\n",
        "\n",
        "À la fin de la description, incluez tous les 7 caractères de l à 7 caractères dans la spécification technique.\n",
        "\n",
        "Après la description, incluez un tableau qui donne les dimensions du produit. dimensions du produit. Le tableau doit comporter deux colonnes.\n",
        "La première colonne contient le nom de la dimension. \n",
        "Dans la deuxième colonne, indiquez les mesures en pouces uniquement.\n",
        "\n",
        "Donnez au tableau le titre \"Dimensions du produit\".\n",
        "\n",
        "Formatez le tout en HTML pour qu'il puisse être utilisé sur un site web. \n",
        "Placez la description dans un élément <div>.\n",
        "\n",
        "Spécifications techniques : ```{fact_sheet_chair}```\n",
        "\"\"\"\n",
        "\n",
        "response = get_completion(prompt)\n",
        "print(response)"
      ],
      "metadata": {
        "id": "aI5GriP7TFQU"
      },
      "execution_count": null,
      "outputs": []
    },
    {
      "cell_type": "markdown",
      "source": [
        "## Load Python libraries to view HTML"
      ],
      "metadata": {
        "id": "gj14IQHmTqql"
      }
    },
    {
      "cell_type": "code",
      "source": [
        "from IPython.display import display, HTML\n",
        "display(HTML(response))"
      ],
      "metadata": {
        "id": "kwJh4FmhTsRf"
      },
      "execution_count": null,
      "outputs": []
    }
  ]
}