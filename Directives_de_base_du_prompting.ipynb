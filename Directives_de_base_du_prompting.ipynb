{
  "nbformat": 4,
  "nbformat_minor": 0,
  "metadata": {
    "colab": {
      "provenance": [],
      "authorship_tag": "ABX9TyM3ohe6dnWOP6Scr6WxFuvz",
      "include_colab_link": true
    },
    "kernelspec": {
      "name": "python3",
      "display_name": "Python 3"
    },
    "language_info": {
      "name": "python"
    }
  },
  "cells": [
    {
      "cell_type": "markdown",
      "metadata": {
        "id": "view-in-github",
        "colab_type": "text"
      },
      "source": [
        "<a href=\"https://colab.research.google.com/github/chrisagon/collab_python/blob/master/Directives_de_base_du_prompting.ipynb\" target=\"_parent\"><img src=\"https://colab.research.google.com/assets/colab-badge.svg\" alt=\"Open In Colab\"/></a>"
      ]
    },
    {
      "cell_type": "markdown",
      "source": [
        "# Lignes directrices pour les messages-guides\n",
        "Dans cette leçon, vous mettrez en pratique deux principes de guidage et leurs tactiques connexes afin de rédiger des messages-guides efficaces pour les grands modèles de langue.\n",
        "> Nous allons traduire *prompting* par *guidage* puisqu'il s'agit de guider l'I.A. dans ce que nous lui demandons et *prompt* par *message-guide*. \n",
        "\n",
        "## Configuration\n",
        "#### Chargez la clé API et les bibliothèques Python appropriées."
      ],
      "metadata": {
        "id": "azD3zvaQa-zs"
      }
    },
    {
      "cell_type": "markdown",
      "source": [
        "Dans ce cours, nous avons fourni du code qui charge la clé API OpenAI pour vous."
      ],
      "metadata": {
        "id": "MBBAjwbtbHYF"
      }
    },
    {
      "cell_type": "code",
      "source": [
        "!pip install openai"
      ],
      "metadata": {
        "id": "TitU3zfmgG-8"
      },
      "execution_count": null,
      "outputs": []
    },
    {
      "cell_type": "code",
      "source": [
        "!pip install python-dotenv"
      ],
      "metadata": {
        "id": "9pGSRgCcipi3"
      },
      "execution_count": null,
      "outputs": []
    },
    {
      "cell_type": "code",
      "source": [
        "import openai\n",
        "openai.api_key = 'sk-xxxxxStgFrUYkWsxxxxxbkFJYwQoD6yGaBfixxxxx'\n",
        "import os\n",
        "\n",
        "from dotenv import load_dotenv, find_dotenv\n",
        "_ = load_dotenv(find_dotenv())\n",
        "\n",
        "# openai.api_key  = os.getenv('OPENAI_API_KEY')"
      ],
      "metadata": {
        "id": "nE1a5WP0bO7J"
      },
      "execution_count": 6,
      "outputs": []
    },
    {
      "cell_type": "markdown",
      "source": [
        "#### fonction d'aide\n",
        "Tout au long de ce cours, nous utiliserons le modèle `gpt-3.5-turbo` d'OpenAI et le [chat completions endpoint](https://platform.openai.com/docs/guides/chat). \n",
        "\n",
        "Cette fonction d'aide `get_completion` facilitera l'utilisation des invites et l'examen des résultats générés :"
      ],
      "metadata": {
        "id": "wsv_nbiZbSsW"
      }
    },
    {
      "cell_type": "code",
      "source": [
        "def get_completion(prompt, model=\"gpt-3.5-turbo\"):\n",
        "    messages = [{\"role\": \"user\", \"content\": prompt}]\n",
        "    response = openai.ChatCompletion.create(\n",
        "        model=model,\n",
        "        messages=messages,\n",
        "        temperature=0, # c'est le degré d'aléa de la sortie du modèle\n",
        "    )\n",
        "    return response.choices[0].message[\"content\"]"
      ],
      "metadata": {
        "id": "T4PIZTvRbXhQ"
      },
      "execution_count": 7,
      "outputs": []
    },
    {
      "cell_type": "markdown",
      "source": [
        "## Principes de guidage\n",
        "- Principe 1 : Rédiger des instructions claires et précises**.\n",
        "- Principe 2 : Donnez au modèle le temps de \"réfléchir \"**.\n",
        "\n",
        "### Tactiques\n",
        "\n",
        "#### Tactique 1 : Utilisez des délimiteurs pour indiquer clairement les parties distinctes de l'entrée.\n",
        "- Les délimiteurs peuvent être n'importe quoi comme : ```, \"\"\", < >, `<tag> </tag>`, `:`"
      ],
      "metadata": {
        "id": "AVIJzpeQbcwu"
      }
    },
    {
      "cell_type": "code",
      "source": [
        "text = f\"\"\"\n",
        "Vous devez exprimer ce que vous attendez d'un modèle en \\ \n",
        "fournissant des instructions aussi claires et spécifiques que possible. \\ \n",
        "Cela guidera le modèle vers le résultat souhaité, \\\n",
        "et réduira les risques de recevoir des informations non pertinentes ou incorrectes. Ne confondez pas la rédaction d'une \\\n",
        " invite claire avec la rédaction d'une invite courte. \\ \n",
        "Dans de nombreux cas, les invites plus longues offrent plus de clarté \\ \n",
        "et de contexte pour le modèle, ce qui peut conduire à une meilleure compréhension \\\n",
        "de la part du modèle et réduire les risques de recevoir des réponses non pertinentes \\ ou incorrectes, et \\\n",
        "des résultats plus détaillés et plus pertinents. \n",
        "\"\"\"\n",
        "prompt = f\"\"\"\n",
        "Résumez le texte délimité par des triples crochets \\\n",
        "en une seule phrase.\n",
        "```{text}```\n",
        "\"\"\"\n",
        "response = get_completion(prompt)\n",
        "print(response)"
      ],
      "metadata": {
        "id": "nwW8En4-ddc-"
      },
      "execution_count": null,
      "outputs": []
    },
    {
      "cell_type": "markdown",
      "source": [
        "#### Tactique 2 : demander un résultat structuré\n",
        "- JSON, HTML"
      ],
      "metadata": {
        "id": "c4hRpROAjXm5"
      }
    },
    {
      "cell_type": "code",
      "source": [
        "prompt = f\"\"\"\n",
        "Créez une liste de trois titres de livres inventés \\\n",
        "avec leurs auteurs et leurs genres. \n",
        "Fournissez-les au format JSON avec les clés suivantes : \n",
        "book_id, title, author, genre.\n",
        "\"\"\"\n",
        "response = get_completion(prompt)\n",
        "print(response)"
      ],
      "metadata": {
        "id": "PMEw2Ql4ji3b"
      },
      "execution_count": null,
      "outputs": []
    },
    {
      "cell_type": "markdown",
      "source": [
        "#### Tactique 3 : Demander au modèle de vérifier si les conditions sont remplies"
      ],
      "metadata": {
        "id": "mrDJBWXajydG"
      }
    },
    {
      "cell_type": "code",
      "source": [
        "texte_1 = f\"\"\"\n",
        "Préparer une tasse de thé, c'est facile ! Tout d'abord, il faut faire bouillir de l'eau. \n",
        "de l'eau bouillante. Pendant ce temps, \\\n",
        "prends une tasse et mets-y un sachet de thé. Une fois que l'eau est \\\n",
        "suffisamment chaude, verse-la sur le sachet de thé. \\ \n",
        "Laisse reposer un peu pour que le thé puisse infuser. Au bout de quelques minutes, retirez le sachet de thé. \n",
        "quelques minutes, retirez le sachet de thé. \n",
        "Si vous le souhaitez, vous pouvez ajouter du sucre ou du lait. \\ \n",
        "Et le tour est joué ! Vous avez une délicieuse \\\n",
        "tasse de thé à déguster. \n",
        "\"\"\"\n",
        "prompt = f\"\"\"\n",
        "Vous obtenez un texte délimité par des guillemets triples. \n",
        "S'il contient une séquence d'instructions, \\\n",
        "réécrivez ces instructions dans le format suivant :\n",
        "\n",
        "Étape 1 - ...\n",
        "Étape 2 - ...\n",
        "...\n",
        "Étape N - ...\n",
        "\n",
        "Si le texte ne contient pas de séquence d'instructions,\\\n",
        "il suffit alors d'écrire \\\"Aucune étape n'est fournie\\\".\n",
        "\n",
        "\\\"\\\"\\\"{texte_1}\\\"\\\"\\\"\n",
        "\"\"\"\n",
        "response = get_completion(prompt)\n",
        "print(\"Complétion pour le texte 1 :\")\n",
        "print(response)"
      ],
      "metadata": {
        "id": "5lOg6zAnk2Mn"
      },
      "execution_count": null,
      "outputs": []
    },
    {
      "cell_type": "code",
      "source": [
        "texte_2 = f\"\"\"\n",
        "Le soleil brille aujourd'hui et les oiseaux chantent.\n",
        "chantent. C'est une belle journée pour faire une \\\n",
        "promenade dans le parc. \n",
        "Les fleurs s'épanouissent et les \\\n",
        "arbres se balancent doucement dans la brise. Les gens \\\n",
        "sont dehors et profitent du beau temps. \\ \n",
        "Certains pique-niquent, d'autres jouent \\\n",
        "à des jeux ou se détendent simplement sur l'herbe. C'est une \\\n",
        "journée parfaite pour passer du temps à l'extérieur et apprécier la \\\n",
        "beauté de la nature. \n",
        "\"\"\"\n",
        "prompt = f\"\"\"\n",
        "Vous recevrez un texte délimité par des guillemets triples. \n",
        "S'il contient une séquence d'instructions, \\\n",
        "réécrivez ces instructions dans le format suivant :\n",
        "\n",
        "Étape 1 - ...\n",
        "Étape 2 - ...\n",
        "...\n",
        "Étape N - ...\n",
        "\n",
        "Si le texte ne contient pas de séquence d'instructions,  \n",
        "il suffit alors d'écrire \\\"Aucune étape n'est fournie\\\".\n",
        "\n",
        "\\\"\\\"\\\"{texte_2}\\\"\\\"\\\"\n",
        "\"\"\"\n",
        "response = get_completion(prompt)\n",
        "print(\"Complétion pour le texte 2 :\")\n",
        "print(response)"
      ],
      "metadata": {
        "id": "SIuzKWDPltpP"
      },
      "execution_count": null,
      "outputs": []
    },
    {
      "cell_type": "markdown",
      "source": [
        "#### Tactique 4 : guidage \"à quelques coups\".\n"
      ],
      "metadata": {
        "id": "riIUTue-l3oL"
      }
    },
    {
      "cell_type": "code",
      "source": [
        "invite = f\"\"\"\n",
        "Votre tâche consiste à répondre dans un style cohérent.\n",
        "\n",
        "<enfant> : Apprenez-moi la patience.\n",
        "\n",
        "<grandparent> : La rivière qui creuse la vallée la plus profonde \\\n",
        "est née d'une source modeste; la \\\n",
        "symphonie la plus grandiose naît d'une seule note ; \\\n",
        "la tapisserie la plus complexe commence par un fil solitaire.\n",
        "\n",
        "<Enfant> : Apprenez-moi ce qu'est la résilience.\n",
        "\"\"\"\n",
        "response = get_completion(invite)\n",
        "print(response)"
      ],
      "metadata": {
        "id": "6k-H5G16l8pr"
      },
      "execution_count": null,
      "outputs": []
    },
    {
      "cell_type": "markdown",
      "source": [
        "### Principe 2 : Donner au modèle le temps de \"penser\" \n",
        "\n",
        "#### Tactique 1 : Spécifier les étapes nécessaires à la réalisation d'une tâche"
      ],
      "metadata": {
        "id": "sNeN7HWkmZO_"
      }
    },
    {
      "cell_type": "code",
      "source": [
        "text = f\"\"\"\n",
        "Dans un charmant village, les frères et sœurs Jack et Jill partent \\\n",
        "dans une quête pour aller chercher de l'eau dans un \\\n",
        "puits situé au sommet d'une colline. \n",
        "Alors qu'ils grimpent en chantant joyeusement, le malheur \\\n",
        "frappe - Jack trébuche sur une pierre et tombe en bas \\\n",
        "de la colline, suivi par Jill. \\ \n",
        "Bien que légèrement blessés, les deux hommes rentrent à la maison et \\\n",
        "se retrouvent dans des étreintes réconfortantes. \n",
        "Malgré cette mésaventure, \\\n",
        "leur esprit d'aventure est resté intact. \\\n",
        "et ils ont continué à explorer avec plaisir.\n",
        "\"\"\"\n",
        "# exemple 1\n",
        "prompt_1 = f\"\"\"\n",
        "Effectuez les actions suivantes : \n",
        "1 - Résumez en 1 phrase le texte suivant délimité par des triples \\\n",
        "avec 1 phrase.\n",
        "2 - Traduire le résumé en anglais.\n",
        "3 - Lister chaque nom dans le résumé en anglais.\n",
        "4 - Produire un objet json contenant les éléments suivants\n",
        "clés : english_summary, num_names.\n",
        "\n",
        "Séparez vos réponses par des sauts de ligne.\n",
        "\n",
        "Le texte :\n",
        "```{text}```\n",
        "\"\"\"\n",
        "response = get_completion(prompt_1)\n",
        "print(\"\\nRéponse à l'invite 1 :\")\n",
        "print(response)"
      ],
      "metadata": {
        "id": "pGHdBtQlmj_4"
      },
      "execution_count": null,
      "outputs": []
    },
    {
      "cell_type": "markdown",
      "source": [
        "#### Demande de sortie dans un format spécifié"
      ],
      "metadata": {
        "id": "VvkUQ1V6nzQ7"
      }
    },
    {
      "cell_type": "code",
      "source": [
        "prompt_2 = f\"\"\"\n",
        "Votre tâche consiste à effectuer les actions suivantes : \n",
        "1 - Résumez le texte suivant délimité par \n",
        "  <> en 1 phrase.\n",
        "2 - Traduisez le résumé en anglais.\n",
        "3 - Lister chaque nom dans le résumé en anglais.\n",
        "4 - Produire un objet json contenant les clés suivantes \n",
        "  clés suivantes : english_summary, num_names.\n",
        "\n",
        "Utilisez le format suivant :\n",
        "Texte : <texte à résumer>\n",
        "Résumé : <résumé>\n",
        "Traduction : <summary translation>\n",
        "Noms : <liste de noms dans le résumé italien>\n",
        "JSON de sortie : <json avec résumé et num_names>\n",
        "\n",
        "Texte : <{text}>\n",
        "\"\"\"\n",
        "response = get_completion(prompt_2)\n",
        "print(\"\\Complétion pour l'invite 2 :\")\n",
        "print(response)"
      ],
      "metadata": {
        "id": "LqHZWpbYn6Ee"
      },
      "execution_count": null,
      "outputs": []
    },
    {
      "cell_type": "markdown",
      "source": [
        "#### Tactique 2 : Demander au modèle d'élaborer sa propre solution avant de se précipiter sur une conclusion."
      ],
      "metadata": {
        "id": "HBFh9ogI0uTt"
      }
    },
    {
      "cell_type": "code",
      "source": [
        "prompt = f\"\"\"\n",
        "Déterminez si la solution de l'élève est correcte ou non.\n",
        "\n",
        "Question :\n",
        "Je suis en train de construire une installation solaire et j'ai besoin d'aide pour calculer les coûts.\n",
        "- Le terrain coûte 100 € / mètre carré\n",
        "- Je peux acheter des panneaux solaires pour 250 € / mètre carré\n",
        "- J'ai négocié un contrat de maintenance qui me coûtera 100 000 € par an. \n",
        "100k € par an, et 10 € supplémentaires par mètre carré.\n",
        "Quel est le coût total pour la première année d'exploitation \n",
        "en fonction du nombre de mètres carrés.\n",
        "\n",
        "Solution de l'étudiant :\n",
        "Soit x la taille de l'installation en mètre carrés.\n",
        "Coûts :\n",
        "1. Coût du terrain : 100x\n",
        "2. Coût du panneau solaire : 250x\n",
        "3. Coût de l'entretien : 100 000 + 100x\n",
        "Coût total : 100x + 250x + 100 000 + 100x = 450x + 100 000\n",
        "\"\"\"\n",
        "response = get_completion(prompt)\n",
        "print(response)"
      ],
      "metadata": {
        "id": "TIQlPZgh1OSG"
      },
      "execution_count": null,
      "outputs": []
    },
    {
      "cell_type": "markdown",
      "source": [
        "#### Note La solution de l'étudiant est incorrect.\n",
        "#### Nous pouvons remédier à ce problème en demandant au modèle d'élaborer d'abord sa propre solution.\n"
      ],
      "metadata": {
        "id": "lMZoH8d4He2B"
      }
    },
    {
      "cell_type": "code",
      "source": [
        "prompt = f\"\"\"\n",
        "Votre tâche est de déterminer si la solution de l'élève \\\n",
        "est correcte ou non.\n",
        "Pour résoudre le problème, procédez comme suit :\n",
        "- Tout d'abord, élaborez votre propre solution au problème. \n",
        "- Ensuite, comparez votre solution à la solution de l'élève \\\n",
        "et évaluez si la solution de l'élève est correcte ou non. \n",
        "Ne décidez pas si la solution de l'élève est correcte avant d'avoir fait le problème vous-même. \n",
        "\n",
        "Utilisez le format suivant :\n",
        "Question :\n",
        "```\n",
        "question ici\n",
        "```\n",
        "Solution de l'élève :\n",
        "```\n",
        "solution de l'étudiant ici\n",
        "```\n",
        "Solution actuelle :\n",
        "```\n",
        "étapes de l'élaboration de la solution et votre solution ici\n",
        "```\n",
        "La solution de l'élève est-elle la même que la solution réelle \\\n",
        "qui vient d'être calculée ? :\n",
        "```\n",
        "oui ou non\n",
        "```\n",
        "Note de l'étudiant :\n",
        "```\n",
        "correcte ou incorrecte\n",
        "```\n",
        "\n",
        "Question :\n",
        "```\n",
        "Je suis en train de construire une installation solaire et j'ai besoin d'aide \\\n",
        "sur le plan financier. \n",
        "- Le terrain coûte 100 dollars par mètre carré\n",
        "- Je peux acheter des panneaux solaires pour 250 € / mètre carré\n",
        "- J'ai négocié un contrat de maintenance qui me coûtera 100 000 € par an.\n",
        "100k € par an, et 10 € supplémentaires par mètre carré.\n",
        "Quel est le coût total pour la première année d'exploitation ?\n",
        "en fonction du nombre de mètre carrés.\n",
        "``` \n",
        "Solution de l'élève :\n",
        "```\n",
        "Soit x la taille de l'installation en mètres carrés.\n",
        "Coûts :\n",
        "1. Coût du terrain : 100x\n",
        "2. Coût du panneau solaire : 250x\n",
        "3. Coût de l'entretien : 100 000 + 100x\n",
        "Coût total : 100x + 250x + 100 000 + 100x = 450x + 100 000\n",
        "```\n",
        "Solution réelle :\n",
        "\"\"\"\n",
        "response = get_completion(prompt)\n",
        "print(response)"
      ],
      "metadata": {
        "id": "vMZDypUTHs5k"
      },
      "execution_count": null,
      "outputs": []
    },
    {
      "cell_type": "markdown",
      "source": [
        "## Limites du modèle : Hallucinations\n",
        "Lorsque le modèle fait des \"erreurs\", celle-ci sont appelées des **hallucinations**.\n",
        "- Boie est une entreprise réelle, le nom du produit n'est pas réel."
      ],
      "metadata": {
        "id": "jOReYmNzKLFv"
      }
    },
    {
      "cell_type": "code",
      "source": [
        "prompt = f\"\"\"\n",
        "Parlez-moi de la brosse à dents intelligente AeroGlide UltraSlim de Boie\n",
        "\"\"\"\n",
        "response = get_completion(prompt)\n",
        "print(response)"
      ],
      "metadata": {
        "id": "vIqFoGZdKnCG"
      },
      "execution_count": null,
      "outputs": []
    },
    {
      "cell_type": "markdown",
      "source": [
        "## Essayez d'expérimenter par vous-même !"
      ],
      "metadata": {
        "id": "ep8zzs2zK3nj"
      }
    },
    {
      "cell_type": "code",
      "source": [],
      "metadata": {
        "id": "Rxr4yOIYK-6e"
      },
      "execution_count": null,
      "outputs": []
    },
    {
      "cell_type": "markdown",
      "source": [
        "#### Notes sur l'utilisation de l'API OpenAI en dehors de ce notebook\n",
        "\n",
        "Pour installer la bibliothèque OpenAI Python :\n",
        "```\n",
        "!pip install openai\n",
        "```\n",
        "\n",
        "La bibliothèque doit être configurée avec la clé secrète de votre compte, qui est disponible sur le [site web] (https://platform.openai.com/account/api-keys). \n",
        "\n",
        "Vous pouvez la définir comme variable d'environnement `OPENAI_API_KEY` avant d'utiliser la bibliothèque :\n",
        " ```\n",
        " !export OPENAI_API_KEY='sk-...'\n",
        " ```\n",
        "\n",
        "Ou bien, donnez à `openai.api_key` sa valeur :\n",
        "\n",
        "```\n",
        "import openai\n",
        "openai.api_key = \"sk-...\"\n",
        "```"
      ],
      "metadata": {
        "id": "DCKDtyOzK_X8"
      }
    },
    {
      "cell_type": "markdown",
      "source": [
        "#### Une remarque sur la barre oblique inverse\n",
        "- Dans le cours, nous utilisons une barre oblique inverse pour faire tenir le texte à l'écran sans insérer de caractères de retour à la ligne.\n",
        "- GPT-3 n'est pas vraiment affecté par l'insertion ou non de caractères de retour à la ligne.  Mais lorsque vous travaillez avec des LLM en général, vous pouvez vous demander si les caractères de retour à la ligne dans votre invite peuvent affecter les performances du modèle."
      ],
      "metadata": {
        "id": "jR3GO_aBLOo0"
      }
    }
  ]
}