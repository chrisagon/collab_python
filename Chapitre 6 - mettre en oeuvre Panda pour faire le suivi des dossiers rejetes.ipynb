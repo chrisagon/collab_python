{
 "cells": [
  {
   "cell_type": "markdown",
   "metadata": {},
   "source": [
    "# Génération du fichier périmètre"
   ]
  },
  {
   "cell_type": "markdown",
   "metadata": {},
   "source": [
    "Ce script a pour but de générer le fichier périmètre du partenaire après injection des Bordereaux dans RenoiRH RECR.\n",
    "Dans le répertoire HR se trouve les différentes extractions relatives à chaque lot.\n",
    "Dans le répertoire BDC, se trouve les différentes extractions des informations envoyés par le partenaire dans la Base de collecte.\n",
    "\n",
    "## Extraction des données\n",
    "\n",
    "Pour le MAA, le script d'extraction HR se trouve dans le répertoire */data/scripts/CheckList_MAA* . Il faut lancer *sql @extract_AG0xCET.sql*\n"
   ]
  },
  {
   "cell_type": "raw",
   "metadata": {},
   "source": [
    "SET ECHO OFF NEWP 0 SPA 0 PAGES 0 FEED OFF HEAD OFF TRIMS ON  LIN 10000 ;\n",
    "\n",
    "spool /produit/hra/txt/tmp/AG01AGR.csv\n",
    "select matcle from ZY00 where typdos = 'SAL' and matcle like 'AGR%' order by matcle;\n",
    "spool off;\n",
    "spool /produit/hra/txt/tmp/AG02AGR.csv\n",
    "-- (dossier avec au moins 1 occurrence de 0F)\n",
    "select distinct(a.matcle) from ZY00 a,ZY0F b where a.nudoss=b.nudoss and a.nudoss in (select nudoss from ZY00 where typdos = 'SAL' and matcle like 'AGR%') order by matcle;\n",
    "spool off;\n",
    "spool /produit/hra/txt/tmp/AG03AGR.csv\n",
    "-- (dossier avec au moins 1 occurrence de GR)\n",
    "select distinct(a.matcle) from ZY00 a,ZYGR b where a.nudoss=b.nudoss and a.nudoss in (select nudoss from ZY00 where typdos = 'SAL' and matcle like 'AGR%') order by matcle;\n",
    "spool off;\n",
    "spool /produit/hra/txt/tmp/AG04AGR.csv\n",
    "-- (dossier avec au moins 1 occurrence de PO)\n",
    "select distinct(a.matcle) from ZY00 a,ZYPO b where a.nudoss=b.nudoss and a.nudoss in (select nudoss from ZY00 where typdos = 'SAL' and matcle like 'AGR%') order by matcle;\n",
    "spool off;\n",
    "spool /produit/hra/txt/tmp/AG05AGR.csv\n",
    "--- (dossier avec au moins 1 occurrence de AG)\n",
    "select distinct(a.matcle) from ZY00 a,ZYAG b where a.nudoss=b.nudoss and a.nudoss in (select nudoss from ZY00 where typdos = 'SAL' and matcle like 'AGR%') order by matcle;\n",
    "spool off;\n",
    "spool /produit/hra/txt/tmp/AG02COAGR.csv\n",
    "-- (dossier avec au moins 1 occurrence de 0F)\n",
    "select distinct(a.matcle) from ZY00 a,ZYCO b where a.nudoss=b.nudoss and a.nudoss in (select nudoss from ZY00 where typdos = 'SAL' and matcle like 'AGR%') order by matcle;\n",
    "spool off;\n",
    "EXIT;\n"
   ]
  },
  {
   "cell_type": "markdown",
   "metadata": {},
   "source": [
    "Il faut déposer les fichiers extraits dans le répertoire HR.\n",
    "\n",
    "Pour les fichiers à déposer dans le répertoire BDC.\n",
    "Pour controler le lot AG01 : Il faut déposer le fichier *onp_file_matricules.csv*. \n"
   ]
  },
  {
   "cell_type": "markdown",
   "metadata": {},
   "source": [
    "\n",
    "Pour contrôler le lot AG02 : il faut lancer la commande */opt/lampp/bin/mysql -u MCC -pMCC MAA_500 <PERIMETRE_CPT_DOSSIER_ZY0F.sql>/exploit/hra/txt/tmp/PERIMETRE_CPT_DOSSIER_ZY0F.csv*\n"
   ]
  },
  {
   "cell_type": "raw",
   "metadata": {},
   "source": [
    "SELECT distinct (matcle)\n",
    "FROM onp_file_matricules a\n",
    "INNER JOIN ONP_ADRESSE b ON a.P_CIV_MATCLE = b.P_CIV_MATCLE\n",
    "ORDER BY matcle;\n"
   ]
  },
  {
   "cell_type": "markdown",
   "metadata": {},
   "source": [
    "\n",
    "Pour contrôler le lot AG03 : il faut lancer la commande */opt/lampp/bin/mysql -u MCC -pMCC MAA_500 <PERIMETRE_CPT_DOSSIER_ZYCOv2.sql>/exploit/hra/txt/tmp/PERIMETRE_CPT_DOSSIER_ZYCO.csv*\n"
   ]
  },
  {
   "cell_type": "raw",
   "metadata": {},
   "source": [
    "SELECT distinct (matcle)\n",
    "FROM onp_file_matricules a , ONP_CONTRAT_AVENANT b where a.P_CIV_MATCLE = b.P_CIV_MATCLE\n",
    "UNION\n",
    "SELECT distinct (matcle)\n",
    "FROM onp_file_matricules a , ONP_CONTRAT b where a.P_CIV_MATCLE = b.P_CIV_MATCLE\n",
    "ORDER BY matcle;"
   ]
  },
  {
   "cell_type": "markdown",
   "metadata": {},
   "source": [
    "Pour contrôler le lot AG04 : il faut lancer la commande */opt/lampp/bin/mysql -u MCC -pMCC MAA_500 <PERIMETRE_CPT_DOSSIER_ZYGR.sql>/exploit/hra/txt/tmp/PERIMETRE_CPT_DOSSIER_ZYGR.csv*"
   ]
  },
  {
   "cell_type": "raw",
   "metadata": {},
   "source": [
    "SELECT distinct (matcle)\n",
    "FROM onp_file_matricules a\n",
    "INNER JOIN ONP_CARRIERE_ADMINI b ON a.P_CIV_MATCLE = b.P_CIV_MATCLE\n",
    "ORDER BY matcle;"
   ]
  },
  {
   "cell_type": "markdown",
   "metadata": {},
   "source": [
    "Pour contrôler le lot AG05 : il faut lancer la commande */opt/lampp/bin/mysql -u MCC -pMCC MAA_500 <PERIMETRE_CPT_DOSSIER_ZYPO.sql>/exploit/hra/txt/tmp/PERIMETRE_CPT_DOSSIER_ZYPO.csv*"
   ]
  },
  {
   "cell_type": "raw",
   "metadata": {},
   "source": [
    "SELECT distinct (matcle)\n",
    "FROM onp_file_matricules a\n",
    "INNER JOIN ONP_POSITION_STA b ON a.P_CIV_MATCLE = b.P_CIV_MATCLE\n",
    "ORDER BY matcle;"
   ]
  },
  {
   "cell_type": "markdown",
   "metadata": {},
   "source": [
    "Il faut télécharger les fichiers csv généré dans le répertoire BDC\n"
   ]
  },
  {
   "cell_type": "markdown",
   "metadata": {},
   "source": [
    "## algorithme de génération du fichier périmètre"
   ]
  },
  {
   "cell_type": "markdown",
   "metadata": {},
   "source": [
    "Pour chaque ligne :\n",
    "Alimenter la colonne Matricule BDC avec P_CIV_MATCLE et la colonne MAtricule HR avec matcle_init.\n",
    "Pour la colonne **LOT 1 - Création de l'agent dans RENOIRH** rechercher le matricule HR dans /HR/AG01AGR.csv : si le matricule est trouvé mettre __OK__ sinon __KO__\n",
    "\n",
    "Pour la colonne **LOT 2 - Adresses** rechercher le matricule HR dans /BDC/PERIMETRE_CPT_DOSSIER_ZY0F.csv *ET* dans /HR/AG02AGR.csv : si le matricule est trouvé dans les 2 fichiers mettre __OK__ sinon __KO__\n",
    "\n",
    "Pour la colonne **LOT 2 - Contrats** rechercher le matricule HR dans /BDC/PERIMETRE_CPT_DOSSIER_ZYCO.csv, si le matricule HR est non trouvé mettre __NC__ et passer à la suite. Si le matricule est trouvé alors rechercher le matricule HR dans /HR/AG02COAGR.csv  si le matricule est trouvé dans les 2 fichiers mettre __OK__ sinon __KO__\n",
    "\n",
    "Pour la colonne **LOT 3 - Carrières** rechercher le matricule HR dans /BDC/PERIMETRE_CPT_DOSSIER_ZYGR.csv si le matricule HR est non trouvé mettre __NC__ et passer à la suite. Si le matricule est trouvé alors rechercher le matricule HR dans /HR/AG03AGR.csv  si le matricule est trouvé dans les 2 fichiers mettre __OK__ sinon __KO__\n",
    "\n",
    "Pour la colonne **LOT 4 - Positions** rechercher le matricule HR dans /BDC/PERIMETRE_CPT_DOSSIER_ZYPO.csv *ET* dans /HR/AG04AGR.csv : si le matricule est trouvé dans les 2 fichiers mettre __OK__ sinon __KO__\n",
    "\n",
    "Pour la colonne **LOT 5 - Absences** rechercher le matricule HR dans /BDC/PERIMETRE_CPT_DOSSIER_ZYAG.csv *ET* dans /HR/AG05AGR.csv : si le matricule est trouvé dans les 2 fichiers mettre __OK__ sinon __KO__"
   ]
  },
  {
   "cell_type": "code",
   "execution_count": null,
   "metadata": {},
   "outputs": [],
   "source": [
    " import os\n",
    "os.environ ['PATH'] \n",
    "__version__ = '1.0.1'"
   ]
  },
  {
   "cell_type": "code",
   "execution_count": null,
   "metadata": {},
   "outputs": [],
   "source": [
    "import xlwings as xw\n",
    "import numpy as np\n",
    "import pandas as pd\n",
    "import datetime as dt\n",
    "import time\n",
    "import sys\n",
    "from datetime import time, tzinfo, timedelta\n",
    "class GMT1(tzinfo):\n",
    "    def utcoffset(self, dt):\n",
    "        return timedelta(hours=1)\n",
    "    def dst(self, dt):\n",
    "        return timedelta(0)\n",
    "    def tzname(self,dt):\n",
    "        return \"Europe/Paris\"\n",
    "t= dt.datetime.now()\n",
    "print(\"Début du traitement à \",t.strftime(\"%H:%M:%S %Z\"))\n"
   ]
  },
  {
   "cell_type": "code",
   "execution_count": null,
   "metadata": {},
   "outputs": [],
   "source": [
    "t= dt.datetime.now()\n",
    "print(\"Création du fichier périmetre à \",t.strftime(\"%H:%M:%S %Z\"))\n",
    "print (\"Création du classeur \")\n",
    "wbPerimetre = xw.Book()  # Ceci va créer un nouveau classeur PERIMETRE\n",
    "# création de la feuille Périmetre\n",
    "feuillePerimetre = wbPerimetre.sheets[0]\n",
    "\n",
    "# Alimentation de l'entête du fichier PERIMETRE\n",
    "feuillePerimetre.range('A1').value = ['Matricule BDC','CORPS','GRADE','Statut','','','Périmètre reprise','Matricule RENOIRH','LOT 1 - Création agent dans RENOIRH','LOT 2 - Adresses','LOT 2 - Contrats','LOT 3 - Carrières','LOT 4 - Positions','PROCHE - Conjoint','PROCHE - Enfant','LOT 5 - Absences']"
   ]
  },
  {
   "cell_type": "code",
   "execution_count": null,
   "metadata": {},
   "outputs": [],
   "source": [
    "# lecture du fichier /BDC/onp_file_matricules.csv\n",
    "total_matricules = pd.read_csv('BDC/onp_file_matricules.csv',sep=';',header=0,usecols=['P_CIV_MATCLE','matcle'],encoding='utf-8')\n",
    "\n",
    "# Alimentation de 'Matricule BDC' et de 'Matricule RENOIRH'\n",
    "feuillePerimetre.range('A1').options(index=False).value =pd.DataFrame({'Matricule BDC': total_matricules['P_CIV_MATCLE']})\n",
    "feuillePerimetre.range('H1').options(index=False).value =pd.DataFrame({'Matricule RENOIRH': total_matricules['matcle']})"
   ]
  },
  {
   "cell_type": "markdown",
   "metadata": {},
   "source": [
    "Pour chaque ligne : Alimenter la colonne Matricule BDC avec P_CIV_MATCLE et la colonne MAtricule HR avec matcle_init. \n",
    "**Pour la colonne LOT 1** - Création de l'agent dans RENOIRH : rechercher le matricule HR dans /HR/AG01AGR.csv : si le matricule est trouvé mettre OK sinon KO\n"
   ]
  },
  {
   "cell_type": "code",
   "execution_count": null,
   "metadata": {},
   "outputs": [],
   "source": [
    "# lecture du fichier /BDC/onp_file_matricules.csv\n",
    "total_matricules_bdc = pd.read_csv('BDC/onp_file_matricules.csv',sep=';',header=0,usecols=['matcle'])\n",
    "\n",
    "# Lecture des matricules chargés dans RenoiRH\n",
    "AG01_RenoiRH = pd.read_csv('HR/MAA_AG01.csv',header=None,names=('matcle','OK'))\n",
    "AG01_RenoiRH['OK']='OK'\n",
    "# print(AG01_RenoiRH)\n",
    "# print(total_matricules_bdc)\n",
    "crit_AG01_OK = total_matricules_bdc.matcle.isin(AG01_RenoiRH.matcle)\n",
    "total_matricules_bdc['LAG1']=crit_AG01_OK*1\n",
    "total_matricules_bdc['LOT 1 - Création agent dans RENOIRH']=total_matricules_bdc.replace([0, 1, 2], ['KO', 'OK', 'NC'])['LAG1']\n",
    "feuillePerimetre.range('I1').options(index=False).value =total_matricules_bdc['LOT 1 - Création agent dans RENOIRH']\n"
   ]
  },
  {
   "cell_type": "markdown",
   "metadata": {},
   "source": [
    "Pour la colonne **LOT 2 - Adresses** rechercher le matricule HR dans /BDC/PERIMETRE_CPT_DOSSIER_ZY0F.csv *ET* dans /HR/AG02AGR.csv : si le matricule est trouvé dans les 2 fichiers mettre __OK__ sinon __KO__"
   ]
  },
  {
   "cell_type": "code",
   "execution_count": null,
   "metadata": {},
   "outputs": [],
   "source": [
    "# lecture du fichier /BDC/PERIMETRE_CPT_DOSSIER_ZY0F.csv\n",
    "total_matricules_adr = pd.read_csv('BDC/PERIMETRE_CPT_DOSSIER_ZY0F.csv',sep=';',header=0,usecols=['matcle'])\n",
    "# total_matricules_adr['KO']='KO'\n",
    "# Lecture des matricules chargés dans RenoiRH\n",
    "AG02_RenoiRH = pd.read_csv('HR/MAA_AG02_0F.csv',header=None,names=('matcle','OK'))\n",
    "# AG02_RenoiRH['OK']='OK'\n",
    "\n",
    "crit_AG02_OK = crit_AG01_OK & total_matricules_adr.matcle.isin(AG02_RenoiRH.matcle)\n",
    "crit_AG020F_NC = total_matricules_bdc.matcle.isin(total_matricules_adr.matcle)\n",
    "crit_AG020F_OK = total_matricules_bdc.matcle.isin(AG02_RenoiRH.matcle) & crit_AG01_OK\n",
    "total_matricules_bdc['0FNC']= crit_AG020F_NC\n",
    "total_matricules_bdc['0FOK']= crit_AG020F_OK\n",
    "total_matricules_bdc['L20F']= (total_matricules_bdc['0FNC']*1 + total_matricules_bdc['0FOK']*1)\n",
    "\n",
    "# total_matricules_adr['L20F']=crit_AG02_OK * 1\n",
    "total_matricules_bdc['LOT 2 - Adresses']=total_matricules_bdc.replace([0, 1, 2], ['NC', 'KO', 'OK'])['L20F']\n",
    "feuillePerimetre.range('J1').options(index=False).value =total_matricules_bdc['LOT 2 - Adresses']\n"
   ]
  },
  {
   "cell_type": "markdown",
   "metadata": {},
   "source": [
    "Pour la colonne **LOT 2 - Contrats** rechercher le matricule HR dans /BDC/PERIMETRE_CPT_DOSSIER_ZYCO.csv, si le matricule HR est non trouvé mettre __NC__ et passer à la suite. Si le matricule est trouvé alors rechercher le matricule HR dans /HR/AG02COAGR.csv  si le matricule est trouvé dans les 2 fichiers mettre __OK__ sinon __KO__"
   ]
  },
  {
   "cell_type": "code",
   "execution_count": null,
   "metadata": {},
   "outputs": [],
   "source": [
    "# lecture du fichier /BDC/PERIMETRE_CPT_DOSSIER_ZYCO.csv\n",
    "total_matricules_con = pd.read_csv('BDC/PERIMETRE_CPT_DOSSIER_ZYCO.csv',sep=';',header=0,usecols=['matcle'])\n",
    "# total_matricules_adr['KO']='KO'\n",
    "# Lecture des matricules chargés dans RenoiRH\n",
    "AG02_RenoiRH = pd.read_csv('HR/MAA_AG02_CO.csv',header=None,names=('matcle','OK'))\n",
    "# AG02_RenoiRH['OK']='OK'\n",
    "\n",
    "# création d'une série vérifiant la présence de BdC dans HR\n",
    "crit_AG02CO_NC = total_matricules_bdc.matcle.isin(total_matricules_con.matcle)\n",
    "crit_AG02CO_OK = total_matricules_bdc.matcle.isin(AG02_RenoiRH.matcle) & crit_AG01_OK\n",
    "total_matricules_bdc['CONC']= crit_AG02CO_NC\n",
    "total_matricules_bdc['COOK']= crit_AG02CO_OK\n",
    "total_matricules_bdc['L2CO']= (total_matricules_bdc['CONC']*1 + total_matricules_bdc['COOK']*1)\n",
    "# \n",
    "total_matricules_bdc['LOT 2 - Contrats']=total_matricules_bdc.replace([0, 1, 2], ['NC', 'KO', 'OK'])['L2CO']\n",
    "# print(total_matricules_bdc)\n",
    "feuillePerimetre.range('K1').options(index=False).value =total_matricules_bdc['LOT 2 - Contrats']\n"
   ]
  },
  {
   "cell_type": "markdown",
   "metadata": {},
   "source": [
    "Pour la colonne **LOT 3 - Carrières** rechercher le matricule HR dans /BDC/PERIMETRE_CPT_DOSSIER_ZYGR.csv si le matricule HR est non trouvé mettre __NC__ et passer à la suite. Si le matricule est trouvé alors rechercher le matricule HR dans /HR/AG03AGR.csv  si le matricule est trouvé dans les 2 fichiers mettre __OK__ sinon __KO__\n"
   ]
  },
  {
   "cell_type": "code",
   "execution_count": null,
   "metadata": {},
   "outputs": [],
   "source": [
    "# lecture du fichier /BDC/PERIMETRE_CPT_DOSSIER_ZYGR.csv\n",
    "total_matricules_car = pd.read_csv('BDC/PERIMETRE_CPT_DOSSIER_ZYGR.csv',sep=';',header=0,usecols=['matcle'])\n",
    "\n",
    "# Lecture des matricules chargés dans RenoiRH\n",
    "AG02_RenoiRH = pd.read_csv('HR/MAA_AG03.csv',header=None,names=('matcle','OK'))\n",
    "# AG02_RenoiRH['OK']='OK'\n",
    "\n",
    "# création d'une série vérifiant la présence de BdC dans HR\n",
    "crit_AG03AGR_NC = total_matricules_bdc.matcle.isin(total_matricules_car.matcle)\n",
    "crit_AG03AGR_OK = total_matricules_bdc.matcle.isin(AG02_RenoiRH.matcle) & crit_AG01_OK\n",
    "total_matricules_bdc['AGNC']= crit_AG03AGR_NC\n",
    "total_matricules_bdc['AGOK']= crit_AG03AGR_OK\n",
    "total_matricules_bdc['L3GR']= (total_matricules_bdc['AGNC']*1 + total_matricules_bdc['AGOK']*1)\n",
    "# \n",
    "total_matricules_bdc['LOT 3 - Carrières']=total_matricules_bdc.replace([0, 1, 2], ['NC', 'KO', 'OK'])['L3GR']\n",
    "# print(total_matricules_bdc)\n",
    "feuillePerimetre.range('L1').options(index=False).value =total_matricules_bdc['LOT 3 - Carrières']\n"
   ]
  },
  {
   "cell_type": "markdown",
   "metadata": {},
   "source": [
    "Pour la colonne **LOT 4 - Positions** rechercher le matricule HR dans /BDC/PERIMETRE_CPT_DOSSIER_ZYPO.csv *ET* dans /HR/AG04AGR.csv : si le matricule est trouvé dans les 2 fichiers mettre __OK__ sinon __KO__"
   ]
  },
  {
   "cell_type": "code",
   "execution_count": null,
   "metadata": {},
   "outputs": [],
   "source": [
    "# lecture du fichier /BDC/PERIMETRE_CPT_DOSSIER_ZYPO.csv\n",
    "total_matricules_pos = pd.read_csv('BDC/PERIMETRE_CPT_DOSSIER_ZYPO.csv',sep=';',header=0,usecols=['matcle'])\n",
    "\n",
    "# Lecture des matricules chargés dans RenoiRH\n",
    "AG02_RenoiRH = pd.read_csv('HR/MAA_AG04.csv',header=None,names=('matcle','OK'))\n",
    "# AG02_RenoiRH['OK']='OK'\n",
    "\n",
    "# création d'une série vérifiant la présence de BdC dans HR\n",
    "crit_AG04AGR_NC = total_matricules_bdc.matcle.isin(total_matricules_pos.matcle)\n",
    "crit_AG04AGR_OK = total_matricules_bdc.matcle.isin(AG02_RenoiRH.matcle) & crit_AG01_OK\n",
    "total_matricules_bdc['PONC']= crit_AG04AGR_NC\n",
    "total_matricules_bdc['POOK']= crit_AG04AGR_OK\n",
    "total_matricules_bdc['L4PO']= (total_matricules_bdc['PONC']*1 + total_matricules_bdc['POOK']*1)\n",
    "# \n",
    "total_matricules_bdc['LOT 4 - Positions']=total_matricules_bdc.replace([0, 1, 2], ['NC', 'KO', 'OK'])['L4PO']\n",
    "# print(total_matricules_bdc)\n",
    "feuillePerimetre.range('M1').options(index=False).value =total_matricules_bdc['LOT 4 - Positions']\n"
   ]
  },
  {
   "cell_type": "markdown",
   "metadata": {},
   "source": [
    "Pour la colonne **PROCHE - Conjoint** rechercher le matricule HR dans /BDC/PERIMETRE_CPT_DOSSIER_PROCHE_CONJOINT.csv *ET* dans /HR/MAA_PR01_CONJ.csv : si le matricule est trouvé dans les 2 fichiers mettre __OK__ sinon __KO__"
   ]
  },
  {
   "cell_type": "code",
   "execution_count": null,
   "metadata": {},
   "outputs": [],
   "source": [
    "# lecture du fichier /BDC/PERIMETRE_CPT_DOSSIER_PROCHE_CONJOINT\n",
    "total_matricules_pos = pd.read_csv('BDC/PERIMETRE_CPT_DOSSIER_PROCHE_CONJOINT.csv',sep=';',header=0,usecols=['matcle'])\n",
    "\n",
    "# Lecture des matricules chargés dans RenoiRH\n",
    "AG02_RenoiRH = pd.read_csv('HR/MAA_PR01_CONJ.csv',header=None,names=('matcle','OK'))\n",
    "# AG02_RenoiRH['OK']='OK'\n",
    "\n",
    "# création d'une série vérifiant la présence de BdC dans HR\n",
    "crit_PR01C_NC = total_matricules_bdc.matcle.isin(total_matricules_pos.matcle)\n",
    "crit_PR01C_OK = total_matricules_bdc.matcle.isin(AG02_RenoiRH.matcle) & crit_AG01_OK\n",
    "total_matricules_bdc['PRCNC']= crit_PR01C_NC\n",
    "total_matricules_bdc['PRCOK']= crit_PR01C_OK\n",
    "total_matricules_bdc['PR01C']= (total_matricules_bdc['PRCNC']*1 + total_matricules_bdc['PRCOK']*1)\n",
    "# \n",
    "total_matricules_bdc['PROCHE - Conjoint']=total_matricules_bdc.replace([0, 1, 2], ['NC', 'KO', 'OK'])['PR01C']\n",
    "# print(total_matricules_bdc)\n",
    "feuillePerimetre.range('N1').options(index=False).value =total_matricules_bdc['PROCHE - Conjoint']\n"
   ]
  },
  {
   "cell_type": "markdown",
   "metadata": {},
   "source": [
    "Pour la colonne **PROCHE - Enfants** rechercher le matricule HR dans /BDC/PERIMETRE_CPT_DOSSIER_PROCHE_ENFANT.csv *ET* dans /HR/MAA_PR01_ENF.csv : si le matricule est trouvé dans les 2 fichiers mettre __OK__ sinon __KO__"
   ]
  },
  {
   "cell_type": "code",
   "execution_count": null,
   "metadata": {},
   "outputs": [],
   "source": [
    "# lecture du fic /BDC/PERIMETRE_CPT_DOSSIER_PROCHE_Enfants\n",
    "total_matricules_pos = pd.read_csv('BDC/PERIMETRE_CPT_DOSSIER_PROCHE_ENFANT.csv',sep=';',header=0,usecols=['matcle'])\n",
    "\n",
    "# Lecture des matricules chargés dans RenoiRH\n",
    "AG02_RenoiRH = pd.read_csv('HR/MAA_PR01_ENF.csv',header=None,names=('matcle','OK'))\n",
    "# AG02_RenoiRH['OK']='OK'\n",
    "\n",
    "# création d'une série vérifiant la présence de BdC dans HR\n",
    "crit_PR01E_NC = total_matricules_bdc.matcle.isin(total_matricules_pos.matcle)\n",
    "crit_PR01E_OK = total_matricules_bdc.matcle.isin(AG02_RenoiRH.matcle) & crit_AG01_OK\n",
    "total_matricules_bdc['PRENC']= crit_PR01E_NC\n",
    "total_matricules_bdc['PREOK']= crit_PR01E_OK\n",
    "total_matricules_bdc['PR01E']= (total_matricules_bdc['PRENC']*1 + total_matricules_bdc['PREOK']*1)\n",
    "# \n",
    "total_matricules_bdc['PROCHE - Enfants']=total_matricules_bdc.replace([0, 1, 2], ['NC', 'KO', 'OK'])['PR01E']\n",
    "# print(total_matricules_bdc)\n",
    "feuillePerimetre.range('O1').options(index=False).value =total_matricules_bdc['PROCHE - Enfants']\n"
   ]
  },
  {
   "cell_type": "markdown",
   "metadata": {},
   "source": [
    "Pour la colonne **LOT 5 - Absences** rechercher le matricule HR dans /BDC/PERIMETRE_CPT_DOSSIER_ZYAG.csv *ET* dans /HR/AG05AGR.csv : si le matricule est trouvé dans les 2 fichiers mettre __OK__ sinon __KO__"
   ]
  },
  {
   "cell_type": "code",
   "execution_count": null,
   "metadata": {},
   "outputs": [],
   "source": [
    "# lecture du fichier /BDC/PERIMETRE_CPT_DOSSIER_ZYAG.csv\n",
    "total_matricules_abs = pd.read_csv('BDC/PERIMETRE_CPT_DOSSIER_ZYAG.csv',sep=';',header=0,usecols=['matcle'])\n",
    "\n",
    "# Lecture des matricules chargés dans RenoiRH\n",
    "AG02_RenoiRH = pd.read_csv('HR/MAA_AG05.csv',header=None,names=('matcle','OK'))\n",
    "# AG02_RenoiRH['OK']='OK'\n",
    "\n",
    "# création d'une série vérifiant la présence de BdC dans HR\n",
    "crit_AG05AGR_NC = total_matricules_bdc.matcle.isin(total_matricules_abs.matcle)\n",
    "crit_AG05AGR_OK = total_matricules_bdc.matcle.isin(AG02_RenoiRH.matcle) & crit_AG01_OK\n",
    "total_matricules_bdc['AGNC']= crit_AG05AGR_NC\n",
    "total_matricules_bdc['AGOK']= crit_AG05AGR_OK\n",
    "total_matricules_bdc['L5AG']= (total_matricules_bdc['AGNC']*1 + total_matricules_bdc['AGOK']*1)\n",
    "# )\n",
    "total_matricules_bdc['LOT 5 - Absences']=total_matricules_bdc.replace([0, 1, 2], ['NC', 'KO', 'OK'])['L5AG']\n",
    "# print(total_matricules_bdc)\n",
    "feuillePerimetre.range('P1').options(index=False).value =total_matricules_bdc['LOT 5 - Absences']\n"
   ]
  }
 ],
 "metadata": {
  "kernelspec": {
   "display_name": "Python 3",
   "language": "python",
   "name": "python3"
  },
  "language_info": {
   "codemirror_mode": {
    "name": "ipython",
    "version": 3
   },
   "file_extension": ".py",
   "mimetype": "text/x-python",
   "name": "python",
   "nbconvert_exporter": "python",
   "pygments_lexer": "ipython3",
   "version": "3.7.2"
  }
 },
 "nbformat": 4,
 "nbformat_minor": 2
}
