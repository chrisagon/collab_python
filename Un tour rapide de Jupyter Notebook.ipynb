{
  "nbformat": 4,
  "nbformat_minor": 0,
  "metadata": {
    "kernelspec": {
      "name": "python3",
      "display_name": "Python 3"
    },
    "language_info": {
      "codemirror_mode": {
        "name": "ipython",
        "version": 3
      },
      "file_extension": ".py",
      "mimetype": "text/x-python",
      "name": "python",
      "nbconvert_exporter": "python",
      "pygments_lexer": "ipython3",
      "version": "3.7.2"
    },
    "colab": {
      "name": "A lire avant - Un tour rapide de Jupyter Notebook.ipynb",
      "provenance": [],
      "include_colab_link": true
    }
  },
  "cells": [
    {
      "cell_type": "markdown",
      "metadata": {
        "id": "view-in-github",
        "colab_type": "text"
      },
      "source": [
        "<a href=\"https://colab.research.google.com/github/chrisagon/collab_python/blob/master/Un%20tour%20rapide%20de%20Jupyter%20Notebook.ipynb\" target=\"_parent\"><img src=\"https://colab.research.google.com/assets/colab-badge.svg\" alt=\"Open In Colab\"/></a>"
      ]
    },
    {
      "cell_type": "markdown",
      "metadata": {
        "id": "iF3QuMtdVj_6",
        "colab_type": "text"
      },
      "source": [
        "# Un tour rapide de Jupyter Notebook"
      ]
    },
    {
      "cell_type": "markdown",
      "metadata": {
        "id": "qzjzbFlJVj_8",
        "colab_type": "text"
      },
      "source": [
        "Cette visite fonctionnera un peu mieux en mode interactif, donc ce sera mieux si vous installez et faites fonctionner votre notebook IPython. Vous pouvez le démarrer à partir d'un terminal en exécutant\n",
        "\n",
        "`ipython notebook`"
      ]
    },
    {
      "cell_type": "markdown",
      "metadata": {
        "id": "GCjo3417Vj_-",
        "colab_type": "text"
      },
      "source": [
        "D'abord, nous devons expliquer comment faire fonctionner les cellules. Essaie de lancer la cellule en dessous !"
      ]
    },
    {
      "cell_type": "code",
      "metadata": {
        "id": "Zx9FKTa5Vj__",
        "colab_type": "code",
        "colab": {
          "base_uri": "https://localhost:8080/",
          "height": 34
        },
        "outputId": "28ce9410-9e6d-496a-b78b-c22c22251123"
      },
      "source": [
        "import pandas as pd\n",
        "\n",
        "print (\"Salut! Ceci est une cellule. Cliquez sur ▶ pour l'exécuter.\")"
      ],
      "execution_count": 2,
      "outputs": [
        {
          "output_type": "stream",
          "text": [
            "Salut! Ceci est une cellule. Cliquez sur ▶ pour l'exécuter.\n"
          ],
          "name": "stdout"
        }
      ]
    },
    {
      "cell_type": "markdown",
      "metadata": {
        "id": "KSCfyIQbVkAF",
        "colab_type": "text"
      },
      "source": [
        "Vous pouvez l'exécuter avec Ctrl+Enter ou Shift+Enter. A essayer."
      ]
    },
    {
      "cell_type": "markdown",
      "metadata": {
        "id": "eRUYIPVxVkAG",
        "colab_type": "text"
      },
      "source": [
        "L'une des choses les plus utiles à propos d'IPython notebook est sa complétion par tabulation. \n",
        "\n",
        "Essayez cela : cliquez juste après read_csv( dans la cellule ci-dessous et pressez Shift+Tab (ou Tab si vous utilisez IPython 1.x) 4 fois, lentement"
      ]
    },
    {
      "cell_type": "code",
      "metadata": {
        "id": "fL3q3QyxVkAH",
        "colab_type": "code",
        "colab": {}
      },
      "source": [
        "pd.read_csv()"
      ],
      "execution_count": 0,
      "outputs": []
    },
    {
      "cell_type": "markdown",
      "metadata": {
        "id": "o_6N0oDNVkAL",
        "colab_type": "text"
      },
      "source": [
        "A la première tabulation, vous devriez voir ceci :\n",
        "<div align=\"center\">\n",
        "<img src=\"https://brickodeurs.fr/wp-content/uploads/2019/09/2019-09-24-15_13_42-A-lire-avant-Un-tour-rapide-de-Jupyter-Notebook.ipynb-Colaboratory-Opera.png\" width=\"75%\">\n",
        "</div>\n"
      ]
    },
    {
      "cell_type": "markdown",
      "metadata": {
        "id": "Ic3HO5GhVkAM",
        "colab_type": "text"
      },
      "source": [
        "Je trouve cela incroyablement utile.\n",
        "\n",
        "Ok, essayons de compléter les onglets pour les noms de fonctions !"
      ]
    },
    {
      "cell_type": "code",
      "metadata": {
        "id": "4B4y4FzpVkAN",
        "colab_type": "code",
        "colab": {}
      },
      "source": [
        "pd.r"
      ],
      "execution_count": 0,
      "outputs": []
    },
    {
      "cell_type": "markdown",
      "metadata": {
        "id": "6XRs5bYRVkAR",
        "colab_type": "text"
      },
      "source": [
        "Vous devriez voir cela :\n",
        "\n",
        "<div align=\"center\">\n",
        "<img src=\"https://brickodeurs.fr/wp-content/uploads/2019/09/2019-09-24-15_17_39-A-lire-avant-Un-tour-rapide-de-Jupyter-Notebook.ipynb-Colaboratory-Opera.png\" width=\"90%\">\n",
        "</div>"
      ]
    },
    {
      "cell_type": "markdown",
      "metadata": {
        "id": "LtD8oHWxVkAS",
        "colab_type": "text"
      },
      "source": [
        "# Ecrire du code"
      ]
    },
    {
      "cell_type": "markdown",
      "metadata": {
        "id": "p0h8BY3HVkAT",
        "colab_type": "text"
      },
      "source": [
        "Vous devez écrire votre code python dans les cellules dédiés au *code*."
      ]
    },
    {
      "cell_type": "code",
      "metadata": {
        "id": "aHgzeFL0VkAU",
        "colab_type": "code",
        "colab": {}
      },
      "source": [
        "def print_10_nums():\n",
        "    for i in range(10):\n",
        "        print i,"
      ],
      "execution_count": 0,
      "outputs": []
    },
    {
      "cell_type": "code",
      "metadata": {
        "id": "DwD21aMVVkAW",
        "colab_type": "code",
        "colab": {},
        "outputId": "73f65aec-83d6-477f-952d-e9c6c9e2bd83"
      },
      "source": [
        "print_10_nums()"
      ],
      "execution_count": 0,
      "outputs": [
        {
          "output_type": "stream",
          "text": [
            "0 1 2 3 4 5 6 7 8 9\n"
          ],
          "name": "stdout"
        }
      ]
    },
    {
      "cell_type": "markdown",
      "metadata": {
        "id": "SqP8AaLBVkAc",
        "colab_type": "text"
      },
      "source": [
        "# Sauvegarder"
      ]
    },
    {
      "cell_type": "markdown",
      "metadata": {
        "id": "9NJ4-IaDVkAc",
        "colab_type": "text"
      },
      "source": [
        "A partir de la dernière version stable, le notebook s'enregistre automatiquement. Vous devriez utiliser la dernière version stable. Vraiment."
      ]
    },
    {
      "cell_type": "markdown",
      "metadata": {
        "id": "bXt6pk-MVkAd",
        "colab_type": "text"
      },
      "source": [
        "# Fonctions Magiques "
      ]
    },
    {
      "cell_type": "markdown",
      "metadata": {
        "id": "YqwgekkrVkAe",
        "colab_type": "text"
      },
      "source": [
        "IPython a toutes sortes de fonctions magiques. Voici un exemple de comparaison de `sum()` avec une compréhension de liste à une compréhension de générateur en utilisant la magie `%time`."
      ]
    },
    {
      "cell_type": "code",
      "metadata": {
        "id": "xIGu6eTtVkAg",
        "colab_type": "code",
        "colab": {},
        "outputId": "2467df9f-2b42-41e5-fa5e-132dd656c12e"
      },
      "source": [
        "%time sum([x for x in range(100000)])"
      ],
      "execution_count": 0,
      "outputs": [
        {
          "output_type": "stream",
          "text": [
            "CPU times: user 24 ms, sys: 4 ms, total: 28 ms\n",
            "Wall time: 27.4 ms\n"
          ],
          "name": "stdout"
        },
        {
          "output_type": "execute_result",
          "data": {
            "text/plain": [
              "4999950000"
            ]
          },
          "metadata": {
            "tags": []
          },
          "execution_count": 3
        }
      ]
    },
    {
      "cell_type": "code",
      "metadata": {
        "id": "3WG9s5yTVkAl",
        "colab_type": "code",
        "colab": {},
        "outputId": "b703ee6d-d86b-4dc9-c81c-df35d508aee6"
      },
      "source": [
        "%time sum(x for x in range(100000))"
      ],
      "execution_count": 0,
      "outputs": [
        {
          "output_type": "stream",
          "text": [
            "CPU times: user 8 ms, sys: 0 ns, total: 8 ms\n",
            "Wall time: 8.11 ms\n"
          ],
          "name": "stdout"
        },
        {
          "output_type": "execute_result",
          "data": {
            "text/plain": [
              "4999950000"
            ]
          },
          "metadata": {
            "tags": []
          },
          "execution_count": 4
        }
      ]
    },
    {
      "cell_type": "markdown",
      "metadata": {
        "id": "uvKI4k2TVkAp",
        "colab_type": "text"
      },
      "source": [
        "Les fonctions magiques à utiliser le plus sont `%time` et `%prun` pour le profilage c-à-d la vérification des performances. Vous pouvez exécuter `%magic` pour obtenir la liste des fonctions magiques, et `%quickref` la fiche de références."
      ]
    },
    {
      "cell_type": "code",
      "metadata": {
        "id": "1aBktMlNVkAq",
        "colab_type": "code",
        "colab": {}
      },
      "source": [
        "%quickref"
      ],
      "execution_count": 0,
      "outputs": []
    },
    {
      "cell_type": "markdown",
      "metadata": {
        "id": "HlUVBh63VkAt",
        "colab_type": "text"
      },
      "source": [
        "Vous pouvez aussi faire des choses loufoques comme exécuter du code Perl dans le notebook avec cell magics. C'est particulièrement cool pour des choses comme le code Cython, où vous pouvez essayer Cython très rapidement avec la magie `%%%cython` (mais vous devrez l'installer)."
      ]
    },
    {
      "cell_type": "code",
      "metadata": {
        "id": "WyQZVxjuVkAu",
        "colab_type": "code",
        "colab": {
          "base_uri": "https://localhost:8080/",
          "height": 34
        },
        "outputId": "aaf99984-f197-4d9b-e309-840c092a8b25"
      },
      "source": [
        "%%perl\n",
        "\n",
        "$_ = \"whoa, python!\";\n",
        "s/python/perl/;\n",
        "print"
      ],
      "execution_count": 4,
      "outputs": [
        {
          "output_type": "stream",
          "text": [
            "whoa, perl!"
          ],
          "name": "stdout"
        }
      ]
    },
    {
      "cell_type": "markdown",
      "metadata": {
        "id": "wXZUkkjHVkAx",
        "colab_type": "text"
      },
      "source": [
        "C'est tout pour l'instant !"
      ]
    },
    {
      "cell_type": "markdown",
      "metadata": {
        "id": "3q9IaJUNVkAy",
        "colab_type": "text"
      },
      "source": [
        "<style>\n",
        "    @font-face {\n",
        "        font-family: \"Computer Modern\";\n",
        "        src: url('http://mirrors.ctan.org/fonts/cm-unicode/fonts/otf/cmunss.otf');\n",
        "    }\n",
        "    div.cell{\n",
        "        width:800px;\n",
        "        margin-left:16% !important;\n",
        "        margin-right:auto;\n",
        "    }\n",
        "    h1 {\n",
        "        font-family: Helvetica, serif;\n",
        "    }\n",
        "    h4{\n",
        "        margin-top:12px;\n",
        "        margin-bottom: 3px;\n",
        "       }\n",
        "    div.text_cell_render{\n",
        "        font-family: Computer Modern, \"Helvetica Neue\", Arial, Helvetica, Geneva, sans-serif;\n",
        "        line-height: 145%;\n",
        "        font-size: 130%;\n",
        "        width:800px;\n",
        "        margin-left:auto;\n",
        "        margin-right:auto;\n",
        "    }\n",
        "    .CodeMirror{\n",
        "            font-family: \"Source Code Pro\", source-code-pro,Consolas, monospace;\n",
        "    }\n",
        "    .text_cell_render h5 {\n",
        "        font-weight: 300;\n",
        "        font-size: 22pt;\n",
        "        color: #4057A1;\n",
        "        font-style: italic;\n",
        "        margin-bottom: .5em;\n",
        "        margin-top: 0.5em;\n",
        "        display: block;\n",
        "    }\n",
        "    \n",
        "    .warning{\n",
        "        color: rgb( 240, 20, 20 )\n",
        "        }  "
      ]
    }
  ]
}