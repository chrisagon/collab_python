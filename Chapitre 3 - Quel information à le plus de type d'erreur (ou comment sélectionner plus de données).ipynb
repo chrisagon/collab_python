{
 "cells": [
  {
   "cell_type": "code",
   "execution_count": null,
   "metadata": {},
   "outputs": [],
   "source": [
    "# Les prérequis usuels\n",
    "%matplotlib inline\n",
    "import pandas as pd\n",
    "import matplotlib.pyplot as plt\n",
    "import numpy as np\n"
   ]
  },
  {
   "cell_type": "markdown",
   "metadata": {},
   "source": [
    "Continuons avec notre exemple de typologie de rejets."
   ]
  },
  {
   "cell_type": "code",
   "execution_count": null,
   "metadata": {},
   "outputs": [],
   "source": [
    "kapi_rejets = pd.read_csv('../data/base_kapi_rejets.csv', sep=';', encoding='ANSI')"
   ]
  },
  {
   "cell_type": "markdown",
   "metadata": {},
   "source": [
    "# 3.1 Sélectionner les types de rejets à propos du Dictionnaire"
   ]
  },
  {
   "cell_type": "markdown",
   "metadata": {},
   "source": [
    "J'aimerais savoir quel information a le plus d'erreurs concernant le Dictionnaire. Tout d'abord, nous jetterons un coup d'œil aux données pour voir à quoi elles ressemblent :"
   ]
  },
  {
   "cell_type": "code",
   "execution_count": null,
   "metadata": {},
   "outputs": [],
   "source": [
    "kapi_rejets[:5]"
   ]
  },
  {
   "cell_type": "markdown",
   "metadata": {},
   "source": [
    "Pour obtenir les erreurs dictionnaire, il faut trouver les lignes où la colonne \"Type d'erreur\" est \"Dictionnaire\". Je vais vous montrer comment faire, puis vous expliquer ce qui se passe. "
   ]
  },
  {
   "cell_type": "code",
   "execution_count": null,
   "metadata": {},
   "outputs": [],
   "source": [
    "erreurs_dictionnaire = kapi_rejets[kapi_rejets['Type_erreur'] == \"Dictionnaire\"]\n",
    "erreurs_dictionnaire[:3]"
   ]
  },
  {
   "cell_type": "markdown",
   "metadata": {},
   "source": [
    "Si vous examinez `erreurs_dictionnaire`, vous verrez que cela a fonctionné, et qu'il ne contient que des erreurs avec le bon type d'erreurs. Mais comment cela fonctionne-t-il ? Déconstruisons-le en deux parties"
   ]
  },
  {
   "cell_type": "code",
   "execution_count": null,
   "metadata": {},
   "outputs": [],
   "source": [
    "kapi_rejets['Type_erreur'] == \"Dictionnaire\""
   ]
  },
  {
   "cell_type": "markdown",
   "metadata": {},
   "source": [
    "Il s'agit d'un grand tableau de \"Vrai\" et de \"Faux\", un pour chaque ligne de notre dataframe. Lorsque nous indexons notre dataframe avec ce tableau, nous obtenons juste les lignes où notre tableau booléen a été évalué à `True`.  Il est important de noter que pour le filtrage de lignes par un tableau booléen, la longueur de l'index de notre dataframe doit être la même que celle du tableau booléen utilisé pour le filtrage.\n",
    "\n",
    "Vous pouvez également combiner plus d'une condition avec l'opérateur `&` comme ceci :"
   ]
  },
  {
   "cell_type": "code",
   "execution_count": null,
   "metadata": {},
   "outputs": [],
   "source": [
    "est_dictionnaire = kapi_rejets['Type_erreur'] == \"Dictionnaire\"\n",
    "est_ZYGR = kapi_rejets['INFO'] == \"ZYGR\"\n",
    "kapi_rejets[est_dictionnaire & est_ZYGR][:5]"
   ]
  },
  {
   "cell_type": "markdown",
   "metadata": {},
   "source": [
    "Ou si nous voulons plus de colonne :"
   ]
  },
  {
   "cell_type": "code",
   "execution_count": null,
   "metadata": {},
   "outputs": [],
   "source": [
    "kapi_rejets[est_dictionnaire & est_ZYGR][['ID','INFO', 'Type_erreur', 'Libellé ou Code erreur', 'Analyse CISIRH ']][:10]"
   ]
  },
  {
   "cell_type": "markdown",
   "metadata": {},
   "source": [
    "# 3.2 Une digression à propos des tableaux numpy"
   ]
  },
  {
   "cell_type": "markdown",
   "metadata": {},
   "source": [
    "A l'intérieur, le type de colonne est `pd.Series`"
   ]
  },
  {
   "cell_type": "code",
   "execution_count": null,
   "metadata": {},
   "outputs": [],
   "source": [
    "pd.Series([1,2,3])"
   ]
  },
  {
   "cell_type": "markdown",
   "metadata": {},
   "source": [
    "et les Series pandas sont en interne des tableaux numpy. Si vous ajoutez `.values` à la fin des `Series`, vous obtiendrez des tableaux internes numpy."
   ]
  },
  {
   "cell_type": "code",
   "execution_count": null,
   "metadata": {},
   "outputs": [],
   "source": [
    "np.array([1,2,3])"
   ]
  },
  {
   "cell_type": "code",
   "execution_count": null,
   "metadata": {},
   "outputs": [],
   "source": [
    "pd.Series([1,2,3]).values"
   ]
  },
  {
   "cell_type": "markdown",
   "metadata": {},
   "source": [
    "Donc, cette activité de sélection de binaires est en fait quelque chose qui fonctionne avec n'importe quel tableau numpy :"
   ]
  },
  {
   "cell_type": "code",
   "execution_count": null,
   "metadata": {},
   "outputs": [],
   "source": [
    "arr = np.array([1,2,3])"
   ]
  },
  {
   "cell_type": "code",
   "execution_count": null,
   "metadata": {},
   "outputs": [],
   "source": [
    "arr != 2"
   ]
  },
  {
   "cell_type": "code",
   "execution_count": null,
   "metadata": {},
   "outputs": [],
   "source": [
    "arr[arr != 2]"
   ]
  },
  {
   "cell_type": "markdown",
   "metadata": {},
   "source": [
    "# 3.3 Alors, quel est l'information qui a le plus de rejets au sujet du Dictionnaire ?"
   ]
  },
  {
   "cell_type": "code",
   "execution_count": null,
   "metadata": {},
   "outputs": [],
   "source": [
    "est_dictionnaire = kapi_rejets['Type_erreur'] == \"Dictionnaire\"\n",
    "\n",
    "erreur_dictionnaire = kapi_rejets[est_dictionnaire]\n",
    "erreur_dictionnaire['INFO'].value_counts()"
   ]
  },
  {
   "cell_type": "markdown",
   "metadata": {},
   "source": [
    "C'est ZYGR ! Mais que se passerait-il si nous voulions diviser par le nombre total d'erreurs, pour que cela ait un peu plus de sens ? Ce serait facile aussi :"
   ]
  },
  {
   "cell_type": "code",
   "execution_count": null,
   "metadata": {},
   "outputs": [],
   "source": [
    "nombre_erreurs_dictionnaire = erreur_dictionnaire['INFO'].value_counts()\n",
    "nombre_erreurs = kapi_rejets['INFO'].value_counts()"
   ]
  },
  {
   "cell_type": "code",
   "execution_count": null,
   "metadata": {},
   "outputs": [],
   "source": [
    "rapport_erreur=nombre_erreurs_dictionnaire / nombre_erreurs\n",
    "rapport_erreur"
   ]
  },
  {
   "cell_type": "markdown",
   "metadata": {},
   "source": [
    "Oups, pourquoi c'était NaN ? Ce n'est pas bon signe. C'est à cause de l'absence d'erreur Dictionnaire sur ces informations. Corrigeons cela, en ajoutant la fonction `dropna()`."
   ]
  },
  {
   "cell_type": "code",
   "execution_count": null,
   "metadata": {},
   "outputs": [],
   "source": [
    "rapport_erreur.dropna()"
   ]
  },
  {
   "cell_type": "code",
   "execution_count": null,
   "metadata": {},
   "outputs": [],
   "source": [
    "(rapport_erreur.dropna()).plot(kind='bar')"
   ]
  },
  {
   "cell_type": "markdown",
   "metadata": {},
   "source": [
    "Trop d'informations tue l'information ! Surpris ?."
   ]
  },
  {
   "cell_type": "markdown",
   "metadata": {},
   "source": [
    "<style>\n",
    "    @font-face {\n",
    "        font-family: \"Computer Modern\";\n",
    "        src: url('http://mirrors.ctan.org/fonts/cm-unicode/fonts/otf/cmunss.otf');\n",
    "    }\n",
    "    div.cell{\n",
    "        width:800px;\n",
    "        margin-left:16% !important;\n",
    "        margin-right:auto;\n",
    "    }\n",
    "    h1 {\n",
    "        font-family: Helvetica, serif;\n",
    "    }\n",
    "    h4{\n",
    "        margin-top:12px;\n",
    "        margin-bottom: 3px;\n",
    "       }\n",
    "    div.text_cell_render{\n",
    "        font-family: Computer Modern, \"Helvetica Neue\", Arial, Helvetica, Geneva, sans-serif;\n",
    "        line-height: 145%;\n",
    "        font-size: 130%;\n",
    "        width:800px;\n",
    "        margin-left:auto;\n",
    "        margin-right:auto;\n",
    "    }\n",
    "    .CodeMirror{\n",
    "            font-family: \"Source Code Pro\", source-code-pro,Consolas, monospace;\n",
    "    }\n",
    "    .text_cell_render h5 {\n",
    "        font-weight: 300;\n",
    "        font-size: 22pt;\n",
    "        color: #4057A1;\n",
    "        font-style: italic;\n",
    "        margin-bottom: .5em;\n",
    "        margin-top: 0.5em;\n",
    "        display: block;\n",
    "    }\n",
    "    \n",
    "    .warning{\n",
    "        color: rgb( 240, 20, 20 )\n",
    "        }  "
   ]
  }
 ],
 "metadata": {
  "kernelspec": {
   "display_name": "Python 3",
   "language": "python",
   "name": "python3"
  },
  "language_info": {
   "codemirror_mode": {
    "name": "ipython",
    "version": 3
   },
   "file_extension": ".py",
   "mimetype": "text/x-python",
   "name": "python",
   "nbconvert_exporter": "python",
   "pygments_lexer": "ipython3",
   "version": "3.7.2"
  }
 },
 "nbformat": 4,
 "nbformat_minor": 2
}
