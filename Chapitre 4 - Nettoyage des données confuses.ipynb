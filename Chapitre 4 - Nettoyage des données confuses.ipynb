{
 "cells": [
  {
   "cell_type": "code",
   "execution_count": null,
   "metadata": {},
   "outputs": [],
   "source": [
    "# Les prérequis usuels\n",
    "%matplotlib inline\n",
    "\n",
    "import pandas as pd\n",
    "import matplotlib.pyplot as plt\n",
    "import numpy as np\n"
   ]
  },
  {
   "cell_type": "markdown",
   "metadata": {},
   "source": [
    "L'un des principaux problèmes que posent les données désordonnées est le suivant : comment savoir si elles sont désordonnées ou non ?\n",
    "\n",
    "Nous allons utiliser à nouveau l'ensemble de données de rejets de reprises ici, car il est gros et un peu lourd."
   ]
  },
  {
   "cell_type": "code",
   "execution_count": null,
   "metadata": {},
   "outputs": [],
   "source": [
    "kapi_rejets = pd.read_csv('../data/base_kapi_rejets.csv', sep=';', encoding='ANSI')"
   ]
  },
  {
   "cell_type": "markdown",
   "metadata": {},
   "source": [
    "# 4.1 Comment savoir si les données sont confuses ? "
   ]
  },
  {
   "cell_type": "markdown",
   "metadata": {},
   "source": [
    "Nous allons regarder quelques colonnes ici. Je sais déjà qu'il y a des problèmes avec le code information, alors regardons d'abord cela.\n",
    " \n",
    "Pour savoir si une colonne a des problèmes, j'utilise généralement `.unique()` pour examiner toutes ses valeurs. Si c'est une colonne numérique, je vais plutôt tracer un histogramme pour avoir une idée de la distribution.\n",
    "\n",
    "Quand on regarde les valeurs uniques de \"INFO\", on s'aperçoit rapidement qu'il s'agit d'un gâchis.\n",
    "\n",
    "Quelques-uns des problèmes :\n",
    "\n",
    "* Certains ont été analysés comme des chaînes de caractères et d'autres comme des flotteurs\n",
    "* Il y a des `nan`\n",
    "* Il y a des valeurs N/A que les pandas ne reconnaissaient pas, comme'N/A' et''.\n",
    "\n",
    "Ce que nous pouvons faire :\n",
    "\n",
    "* Normaliser 'N/A' et 'NO CLUE' en valeurs nan régulières.\n",
    "* Regardez ce qui se passe avec le 83, et décidez de ce qu'il faut faire\n",
    "* Faire que tout soit lié"
   ]
  },
  {
   "cell_type": "code",
   "execution_count": null,
   "metadata": {},
   "outputs": [],
   "source": [
    "kapi_rejets['INFO'].unique()"
   ]
  },
  {
   "cell_type": "markdown",
   "metadata": {},
   "source": [
    "# 7.2 *Réparer* la confusion entre les valeurs nan et les chaines/float "
   ]
  },
  {
   "cell_type": "markdown",
   "metadata": {},
   "source": [
    "Nous pouvons passer une option `na_values` à `pd.read_csv` pour nettoyer un peu cela. Nous pouvons aussi spécifier que le type de Zip d'Incident est une chaîne de caractères et non un float."
   ]
  },
  {
   "cell_type": "code",
   "execution_count": null,
   "metadata": {},
   "outputs": [],
   "source": [
    "na_values = ['  ', 'N/A', '0']\n",
    "kapi_rejets = pd.read_csv('../data/base_kapi_rejets.csv', na_values=na_values, dtype={'INFO': str}, sep=';', encoding='ANSI')"
   ]
  },
  {
   "cell_type": "code",
   "execution_count": null,
   "metadata": {},
   "outputs": [],
   "source": [
    "kapi_rejets['INFO'].unique()"
   ]
  },
  {
   "cell_type": "markdown",
   "metadata": {},
   "source": [
    "# 7.3 C'est quoi ces blancs ?"
   ]
  },
  {
   "cell_type": "code",
   "execution_count": null,
   "metadata": {},
   "outputs": [],
   "source": [
    "colonne_avec_blanc = kapi_rejets['INFO'].str.contains(' ').fillna(False)\n",
    "len(kapi_rejets[colonne_avec_blanc])"
   ]
  },
  {
   "cell_type": "code",
   "execution_count": null,
   "metadata": {},
   "outputs": [],
   "source": [
    "kapi_rejets[colonne_avec_blanc]"
   ]
  },
  {
   "cell_type": "markdown",
   "metadata": {},
   "source": [
    "Je pensais qu'il s'agissait de données manquantes et je les ai effacées comme ceci :\n",
    "\n",
    "`kapi_rejets['INFO'][colonne_avec_blanc] = np.nan`\n",
    "\n",
    "Mais mon ami Marc m'a fait remarquer que les codes ave blanc sont normaux. Regardons tous les codes avec blanc, vérifions qu'ils sont corrects, puis tronquez-les."
   ]
  },
  {
   "cell_type": "code",
   "execution_count": null,
   "metadata": {},
   "outputs": [],
   "source": [
    "code_avec_blanc = kapi_rejets['INFO'].str.len() > 4\n",
    "kapi_rejets['INFO'][code_avec_blanc].unique()"
   ]
  },
  {
   "cell_type": "markdown",
   "metadata": {},
   "source": [
    "Ils ont tous l'air bons pour être tronqués."
   ]
  },
  {
   "cell_type": "code",
   "execution_count": null,
   "metadata": {},
   "outputs": [],
   "source": [
    "kapi_rejets['INFO'] = kapi_rejets['INFO'].str.slice(0, 4)"
   ]
  },
  {
   "cell_type": "markdown",
   "metadata": {},
   "source": [
    "Fait."
   ]
  },
  {
   "cell_type": "markdown",
   "metadata": {},
   "source": [
    "Plus tôt, je pensais que ZY était un code incomplet, cependant : jetons un coup d'oeil à cela. "
   ]
  },
  {
   "cell_type": "code",
   "execution_count": null,
   "metadata": {},
   "outputs": [],
   "source": [
    "kapi_rejets[kapi_rejets['INFO'] == 'ZY']"
   ]
  },
  {
   "cell_type": "markdown",
   "metadata": {},
   "source": [
    "Ça me semble normal.."
   ]
  },
  {
   "cell_type": "markdown",
   "metadata": {},
   "source": [
    "Super. Voyons où nous en sommes maintenant :"
   ]
  },
  {
   "cell_type": "code",
   "execution_count": null,
   "metadata": {},
   "outputs": [],
   "source": [
    "code_unique = kapi_rejets['INFO'].unique()\n",
    "code_unique.sort()\n",
    "code_unique"
   ]
  },
  {
   "cell_type": "markdown",
   "metadata": {},
   "source": [
    "Incroyable ! C'est beaucoup plus propre. \n"
   ]
  },
  {
   "cell_type": "markdown",
   "metadata": {},
   "source": [
    "# 7.4 Mettre tout ensemble"
   ]
  },
  {
   "cell_type": "markdown",
   "metadata": {},
   "source": [
    "Voici ce que nous avons fini par faire pour nettoyer nos codes, tous ensemble :"
   ]
  },
  {
   "cell_type": "code",
   "execution_count": null,
   "metadata": {},
   "outputs": [],
   "source": [
    "valeur_a_exclure = ['  ', 'N/A', '0']\n",
    "kapi_rejets = pd.read_csv('../data/base_kapi_rejets.csv', \n",
    "                          na_values=valeur_a_exclure, \n",
    "                          dtype={'INFO': str}, \n",
    "                          sep=';', encoding='ANSI')\n"
   ]
  },
  {
   "cell_type": "code",
   "execution_count": null,
   "metadata": {},
   "outputs": [],
   "source": [
    "def fix_codes_infos(infos):\n",
    "    # tronquer tout à 4 caractères \n",
    "    infos = infos.str.slice(0, 4)\n",
    "    \n",
    "    # Set 0000 codes to nan\n",
    "    zero_infos = infos == '0000'\n",
    "    infos[zero_infos] = np.nan\n",
    "    \n",
    "    return infos"
   ]
  },
  {
   "cell_type": "code",
   "execution_count": null,
   "metadata": {},
   "outputs": [],
   "source": [
    "kapi_rejets['INFO'] = fix_codes_infos(kapi_rejets['INFO'])"
   ]
  },
  {
   "cell_type": "code",
   "execution_count": null,
   "metadata": {},
   "outputs": [],
   "source": [
    "kapi_rejets['INFO'].unique()"
   ]
  },
  {
   "cell_type": "markdown",
   "metadata": {},
   "source": [
    "<style>\n",
    "    @font-face {\n",
    "        font-family: \"Computer Modern\";\n",
    "        src: url('http://mirrors.ctan.org/fonts/cm-unicode/fonts/otf/cmunss.otf');\n",
    "    }\n",
    "    div.cell{\n",
    "        width:800px;\n",
    "        margin-left:16% !important;\n",
    "        margin-right:auto;\n",
    "    }\n",
    "    h1 {\n",
    "        font-family: Helvetica, serif;\n",
    "    }\n",
    "    h4{\n",
    "        margin-top:12px;\n",
    "        margin-bottom: 3px;\n",
    "       }\n",
    "    div.text_cell_render{\n",
    "        font-family: Computer Modern, \"Helvetica Neue\", Arial, Helvetica, Geneva, sans-serif;\n",
    "        line-height: 145%;\n",
    "        font-size: 130%;\n",
    "        width:800px;\n",
    "        margin-left:auto;\n",
    "        margin-right:auto;\n",
    "    }\n",
    "    .CodeMirror{\n",
    "            font-family: \"Source Code Pro\", source-code-pro,Consolas, monospace;\n",
    "    }\n",
    "    .text_cell_render h5 {\n",
    "        font-weight: 300;\n",
    "        font-size: 22pt;\n",
    "        color: #4057A1;\n",
    "        font-style: italic;\n",
    "        margin-bottom: .5em;\n",
    "        margin-top: 0.5em;\n",
    "        display: block;\n",
    "    }\n",
    "    \n",
    "    .warning{\n",
    "        color: rgb( 240, 20, 20 )\n",
    "        }  "
   ]
  }
 ],
 "metadata": {
  "kernelspec": {
   "display_name": "Python 3",
   "language": "python",
   "name": "python3"
  },
  "language_info": {
   "codemirror_mode": {
    "name": "ipython",
    "version": 3
   },
   "file_extension": ".py",
   "mimetype": "text/x-python",
   "name": "python",
   "nbconvert_exporter": "python",
   "pygments_lexer": "ipython3",
   "version": "3.7.2"
  }
 },
 "nbformat": 4,
 "nbformat_minor": 2
}
