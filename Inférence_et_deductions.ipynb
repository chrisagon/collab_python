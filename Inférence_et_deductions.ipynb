{
  "nbformat": 4,
  "nbformat_minor": 0,
  "metadata": {
    "colab": {
      "provenance": [],
      "authorship_tag": "ABX9TyPPSkeaEGHobo0e6Zhf6Bw/",
      "include_colab_link": true
    },
    "kernelspec": {
      "name": "python3",
      "display_name": "Python 3"
    },
    "language_info": {
      "name": "python"
    }
  },
  "cells": [
    {
      "cell_type": "markdown",
      "metadata": {
        "id": "view-in-github",
        "colab_type": "text"
      },
      "source": [
        "<a href=\"https://colab.research.google.com/github/chrisagon/collab_python/blob/master/Inf%C3%A9rence_et_deductions.ipynb\" target=\"_parent\"><img src=\"https://colab.research.google.com/assets/colab-badge.svg\" alt=\"Open In Colab\"/></a>"
      ]
    },
    {
      "cell_type": "markdown",
      "source": [
        "# Déduction\n",
        "Dans cette leçon, vous allez déduire des sentiments et des thèmes à partir de critiques de produits et d'articles de presse.\n",
        "\n",
        "## Configuration"
      ],
      "metadata": {
        "id": "xHQ99EnWxvSx"
      }
    },
    {
      "cell_type": "code",
      "execution_count": null,
      "metadata": {
        "id": "ERDYVI9mxpV1"
      },
      "outputs": [],
      "source": [
        "import openai\n",
        "import os\n",
        "\n",
        "from dotenv import load_dotenv, find_dotenv\n",
        "_ = load_dotenv(find_dotenv()) # read local .env file\n",
        "\n",
        "openai.api_key  = os.getenv('OPENAI_API_KEY')"
      ]
    },
    {
      "cell_type": "code",
      "source": [
        "def get_completion(prompt, model=\"gpt-3.5-turbo\"):\n",
        "    messages = [{\"role\": \"user\", \"content\": prompt}]\n",
        "    response = openai.ChatCompletion.create(\n",
        "        model=model,\n",
        "        messages=messages,\n",
        "        temperature=0, # this is the degree of randomness of the model's output\n",
        "    )\n",
        "    return response.choices[0].message[\"content\"]"
      ],
      "metadata": {
        "id": "DEWaAk6qx2Fi"
      },
      "execution_count": null,
      "outputs": []
    },
    {
      "cell_type": "markdown",
      "source": [
        "## Texte d'évaluation du produit"
      ],
      "metadata": {
        "id": "pTqjHyRgyGrm"
      }
    },
    {
      "cell_type": "code",
      "source": [
        "lamp_review = \"\"\"\n",
        "J'avais besoin d'une belle lampe pour ma chambre à coucher, et celle-ci avait \\\n",
        "rangement supplémentaire et son prix n'était pas trop élevé. \\\n",
        "Je l'ai reçue rapidement.  La ficelle de notre lampe s'est cassée pendant le \\\n",
        "transport et la société nous en a envoyé une nouvelle.\\\n",
        "La lampe a été livrée en quelques jours également. Le montage a été facile à assembler.  Il me manquait une pièce, j'ai donc contacté le service d'assistance \\\n",
        "et ils m'ont rapidement fourni la pièce manquante ! \\\n",
        "Lumina me semble être une grande entreprise qui se soucie \\\n",
        "de ses clients et de ses produits !\n",
        "\"\"\""
      ],
      "metadata": {
        "id": "gD0Gs3P4yfpn"
      },
      "execution_count": null,
      "outputs": []
    },
    {
      "cell_type": "markdown",
      "source": [
        "## Sentiment (positive/negative)"
      ],
      "metadata": {
        "id": "MMRwU39lyjSD"
      }
    },
    {
      "cell_type": "code",
      "source": [
        "prompt = f\"\"\"\n",
        "Quel est le sentiment de la critique de produit suivante, \n",
        "qui est délimité par des triples crochets ?\n",
        "\n",
        "Texte de l'avis : '''{lamp_review}'''\n",
        "\"\"\"\n",
        "response = get_completion(prompt)\n",
        "print(response)"
      ],
      "metadata": {
        "id": "SSw5kJwNyo02"
      },
      "execution_count": null,
      "outputs": []
    },
    {
      "cell_type": "code",
      "source": [
        "prompt = f\"\"\"\n",
        "Quel est le sentiment de la critique de produit suivante, \n",
        "qui est délimité par des triples crochets ?\n",
        "\n",
        "Donnez votre réponse en un seul mot, soit \"positif\" \\\n",
        "soit \"négatif\".\n",
        "\n",
        "Texte de l'avis : '''{lamp_review}'''\n",
        "\"\"\"\n",
        "response = get_completion(prompt)\n",
        "print(response)"
      ],
      "metadata": {
        "id": "3WrW2tFxyyj9"
      },
      "execution_count": null,
      "outputs": []
    },
    {
      "cell_type": "markdown",
      "source": [
        "## Identifier les types d'émotions"
      ],
      "metadata": {
        "id": "MdfMi1JKy4HY"
      }
    },
    {
      "cell_type": "code",
      "source": [
        "prompt = f\"\"\"\n",
        "Identifiez une liste d'émotions exprimées par l'auteur de l'article suivant.\n",
        "suivant exprime. N'incluez pas plus de \\\n",
        "cinq éléments dans la liste. \n",
        "Formulez votre réponse sous la forme d'une liste de \\\n",
        "mots en minuscules séparés par des virgules.\n",
        "\n",
        "Review text: '''{lamp_review}'''\n",
        "\"\"\"\n",
        "response = get_completion(prompt)\n",
        "print(response)"
      ],
      "metadata": {
        "id": "DecHqOcSy6KK"
      },
      "execution_count": null,
      "outputs": []
    },
    {
      "cell_type": "markdown",
      "source": [
        "## Identifier la colère"
      ],
      "metadata": {
        "id": "CgK0CgArzIf8"
      }
    },
    {
      "cell_type": "code",
      "source": [
        "prompt = f\"\"\"\n",
        "L'auteur de la critique suivante exprime-t-il de la colère ?\n",
        "Le commentaire est délimité par des triples crochets. \\\n",
        "Répondez par oui ou par non.\n",
        "\n",
        "Texte du commentaire : '''{lamp_review}'''\n",
        "\"\"\"\n",
        "response = get_completion(prompt)\n",
        "print(response)"
      ],
      "metadata": {
        "id": "wwMhcBcnzRCl"
      },
      "execution_count": null,
      "outputs": []
    },
    {
      "cell_type": "markdown",
      "source": [
        "## Extraire le nom du produit et de l'entreprise des commentaires des clients"
      ],
      "metadata": {
        "id": "muIQKG7GzYUy"
      }
    },
    {
      "cell_type": "code",
      "source": [
        "prompt = f\"\"\"\n",
        "Identifiez les articles suivants dans le texte de l'article : \n",
        "- Article acheté par le lecteur\n",
        "- Entreprise qui a fabriqué l'article\n",
        "\n",
        "L'avis est délimité par des triples crochets. \n",
        "Formulez votre réponse sous la forme d'un objet JSON avec les clés \\\n",
        "\"Article\" et \"Marque\" comme clés. \n",
        "Si l'information n'est pas présente, utilisez \"unknown\" \\Npour la valeur.\n",
        "comme valeur.\n",
        "Faites en sorte que votre réponse soit aussi courte que possible.\n",
        "  \n",
        "Texte de la critique : '''{lamp_review}'''\n",
        "\"\"\"\n",
        "response = get_completion(prompt)\n",
        "print(réponse)"
      ],
      "metadata": {
        "id": "Ksn3aUPxzhdz"
      },
      "execution_count": null,
      "outputs": []
    },
    {
      "cell_type": "markdown",
      "source": [
        "## Effectuer plusieurs tâches à la fois"
      ],
      "metadata": {
        "id": "AsKTyXKezrrB"
      }
    },
    {
      "cell_type": "code",
      "source": [
        "prompt = f\"\"\"\n",
        "Identifiez les éléments suivants dans le texte de la revue : \n",
        "- Sentiment (positif ou négatif)\n",
        "- L'auteur du commentaire exprime-t-il de la colère ? (vrai ou faux)\n",
        "- Article acheté par l'auteur de l'évaluation\n",
        "- Entreprise qui a fabriqué l'article\n",
        "\n",
        "L'avis est délimité par des triples crochets. \n",
        "Formulez votre réponse sous la forme d'un objet JSON dont les clés sont \\N\n",
        "\"Sentiment\", \"Colère\", \"Article\" et \"Marque\" comme clés.\n",
        "Si l'information n'est pas présente, utilisez \" inconnu \" \\\n",
        "comme valeur.\n",
        "Votre réponse doit être aussi courte que possible.\n",
        "Formulez la valeur \"Colère\" comme une valeur booléenne.\n",
        "\n",
        "Texte de la critique : '''{lamp_review}'''\n",
        "\"\"\"\n",
        "response = get_completion(prompt)\n",
        "print(réponse)"
      ],
      "metadata": {
        "id": "6tPbeNhJz3Nz"
      },
      "execution_count": null,
      "outputs": []
    },
    {
      "cell_type": "markdown",
      "source": [
        "## Déduire des sujets"
      ],
      "metadata": {
        "id": "W4bvqY4sz-T7"
      }
    },
    {
      "cell_type": "code",
      "source": [
        "story = \"\"\"\n",
        "Dans une enquête récente menée par le gouvernement, \n",
        "les employés du secteur public ont été invités à évaluer leur \n",
        "de satisfaction à l'égard du service dans lequel ils travaillent. \n",
        "Les résultats ont révélé que la NASA était le département le plus populaire, avec un taux de satisfaction de 95 %. \n",
        "\n",
        "Un employé de la NASA, John Smith, a commenté les résultats, \n",
        "Je ne suis pas surpris que la NASA soit arrivée en tête. \n",
        "C'est un endroit où il fait bon travailler, avec des gens formidables et des \n",
        "des opportunités incroyables. Je suis fier de faire partie \n",
        "d'une organisation aussi innovante\".\n",
        "\n",
        "Les résultats ont également été salués par l'équipe de direction de la NASA, \n",
        "Tom Johnson, directeur de la NASA, a déclaré : \"Nous sommes ravis d'apprendre que nos employés sont satisfaits de leurs conditions de travail. \n",
        "Nous avons une équipe talentueuse et dévouée qui travaille sans relâche pour atteindre nos objectifs. \n",
        "pour atteindre nos objectifs, et il est fantastique de constater que leur \n",
        "travail acharné porte ses fruits\".\n",
        "\n",
        "L'enquête a également révélé que l'administration de la sécurité sociale \n",
        "l'administration de la sécurité sociale avait le taux de satisfaction le plus bas \n",
        "avec seulement 45 % des employés se déclarant satisfaits de leur travail. \n",
        "Le gouvernement s'est engagé à répondre aux préoccupations soulevées par les employés dans l'enquête et \n",
        "d'améliorer la satisfaction au travail dans tous les services.\n",
        "\"\"\""
      ],
      "metadata": {
        "id": "HnL2SP-wz_Xj"
      },
      "execution_count": null,
      "outputs": []
    },
    {
      "cell_type": "markdown",
      "source": [
        "## Déduire 5 sujets"
      ],
      "metadata": {
        "id": "0PyHUyXb0ZNw"
      }
    },
    {
      "cell_type": "code",
      "source": [
        "prompt = f\"\"\"\n",
        "Déterminez cinq sujets qui sont abordés dans le texte suivant, qui est délimité par des triples crochets.\n",
        "\n",
        "Rédigez chaque élément en un ou deux mots. \n",
        "\n",
        "Formulez votre réponse sous la forme d'une liste d'éléments séparés par des virgules.\n",
        "\n",
        "Exemple de texte : '''{histoire}'''\n",
        "\"\"\"\n",
        "response = get_completion(prompt)\n",
        "print(réponse)"
      ],
      "metadata": {
        "id": "7Za7e5sh0fpB"
      },
      "execution_count": null,
      "outputs": []
    },
    {
      "cell_type": "code",
      "source": [
        "response.split(sep=',')"
      ],
      "metadata": {
        "id": "PzGlEZKr0i0x"
      },
      "execution_count": null,
      "outputs": []
    },
    {
      "cell_type": "code",
      "source": [
        "topic_list = [\n",
        "    \"nasa\", \"local government\", \"engineering\", \n",
        "    \"employee satisfaction\", \"federal government\"\n",
        "]"
      ],
      "metadata": {
        "id": "KfGThbEp0mJp"
      },
      "execution_count": null,
      "outputs": []
    },
    {
      "cell_type": "markdown",
      "source": [
        "## Créer une alerte pour certains sujets"
      ],
      "metadata": {
        "id": "VcubJpwB0sqA"
      }
    },
    {
      "cell_type": "code",
      "source": [
        "prompt = f\"\"\"\n",
        "Déterminez si chaque élément de la liste suivante de sujets \\\n",
        "est un thème du texte ci-dessous, \n",
        "est délimité par des triples crochets.\n",
        "\n",
        "Donnez votre réponse sous forme de liste avec 0 ou 1 pour chaque sujet.\n",
        "\n",
        "Liste de sujets : {\", \".join(topic_list)}\n",
        "\n",
        "Exemple de texte : '''{histoire}'''\n",
        "\"\"\"\n",
        "response = get_completion(prompt)\n",
        "print(response)"
      ],
      "metadata": {
        "id": "R02rFzDj00lU"
      },
      "execution_count": null,
      "outputs": []
    },
    {
      "cell_type": "code",
      "source": [
        "topic_dict = {i.split(': ')[0]: int(i.split(': ')[1]) for i in response.split(sep='\\n')}\n",
        "if topic_dict['nasa'] == 1:\n",
        "    print(\"ALERT: New NASA story!\")"
      ],
      "metadata": {
        "id": "6Ju9i45D06Rc"
      },
      "execution_count": null,
      "outputs": []
    }
  ]
}