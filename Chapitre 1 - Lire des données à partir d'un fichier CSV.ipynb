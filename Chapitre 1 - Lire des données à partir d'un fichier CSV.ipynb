{
 "cells": [
  {
   "cell_type": "code",
   "execution_count": 1,
   "metadata": {},
   "outputs": [],
   "source": [
    "import pandas as pd\n"
   ]
  },
  {
   "cell_type": "markdown",
   "metadata": {},
   "source": [
    "# 1.1 Lire des données à partir d'un fichier CSV"
   ]
  },
  {
   "cell_type": "markdown",
   "metadata": {},
   "source": [
    "Vous pouvez lire les données d'un fichier CSV en utilisant la fonction `read_csv`. Par défaut, il suppose que les champs sont séparés par des virgules.\n",
    "\n",
    "Nous allons chercher des données sur le fichier de capitalisation des rejets.\n",
    "\n",
    "Cet ensemble de données est une liste des rejets obtenues après injections des bordereaux issue de la base de collecte. Nous précisons que le séparateur = ';' et l'encodage est ANSI."
   ]
  },
  {
   "cell_type": "code",
   "execution_count": 2,
   "metadata": {},
   "outputs": [],
   "source": [
    "kapi_rejets = pd.read_csv('../data/base_kapi_rejets.csv', sep=';', encoding='ANSI')"
   ]
  },
  {
   "cell_type": "code",
   "execution_count": 3,
   "metadata": {
    "scrolled": true
   },
   "outputs": [
    {
     "data": {
      "text/html": [
       "<div>\n",
       "<style scoped>\n",
       "    .dataframe tbody tr th:only-of-type {\n",
       "        vertical-align: middle;\n",
       "    }\n",
       "\n",
       "    .dataframe tbody tr th {\n",
       "        vertical-align: top;\n",
       "    }\n",
       "\n",
       "    .dataframe thead th {\n",
       "        text-align: right;\n",
       "    }\n",
       "</style>\n",
       "<table border=\"1\" class=\"dataframe\">\n",
       "  <thead>\n",
       "    <tr style=\"text-align: right;\">\n",
       "      <th></th>\n",
       "      <th>CLE_RECHV</th>\n",
       "      <th>ID</th>\n",
       "      <th>TIR</th>\n",
       "      <th>LOT</th>\n",
       "      <th>INFO</th>\n",
       "      <th>Type_erreur</th>\n",
       "      <th>Rubriques Hra</th>\n",
       "      <th>Libellé ou Code erreur</th>\n",
       "      <th>#VALEUR REJETEE</th>\n",
       "      <th>TYPOLOGIE</th>\n",
       "      <th>Analyse CISIRH</th>\n",
       "      <th>Commentaire</th>\n",
       "    </tr>\n",
       "  </thead>\n",
       "  <tbody>\n",
       "    <tr>\n",
       "      <th>0</th>\n",
       "      <td>ZYCREATION A TORT</td>\n",
       "      <td>0001</td>\n",
       "      <td>TIR04</td>\n",
       "      <td>AG01</td>\n",
       "      <td>ZY</td>\n",
       "      <td>Compatibilité</td>\n",
       "      <td>NaN</td>\n",
       "      <td>CREATION A TORT</td>\n",
       "      <td>…</td>\n",
       "      <td>Erreur technique</td>\n",
       "      <td>CREATION A TORT : Dossier non créé en AG01. co...</td>\n",
       "      <td>CET : Dossier présent uniquement dans la table...</td>\n",
       "    </tr>\n",
       "    <tr>\n",
       "      <th>1</th>\n",
       "      <td>ZYAS03B104</td>\n",
       "      <td>0002</td>\n",
       "      <td>TIR04</td>\n",
       "      <td>AG01</td>\n",
       "      <td>ZY</td>\n",
       "      <td>Utilisateur</td>\n",
       "      <td>NaN</td>\n",
       "      <td>AS03B104  /  L'agent n'a pas d'affectation pri...</td>\n",
       "      <td>date d'effet</td>\n",
       "      <td>Trou d'historique</td>\n",
       "      <td>Trou dans l'affection opérationnelle \\nMultipl...</td>\n",
       "      <td>NaN</td>\n",
       "    </tr>\n",
       "    <tr>\n",
       "      <th>2</th>\n",
       "      <td>ZYAS03B103</td>\n",
       "      <td>0003</td>\n",
       "      <td>TIR04</td>\n",
       "      <td>AG01</td>\n",
       "      <td>ZY</td>\n",
       "      <td>Utilisateur</td>\n",
       "      <td>NaN</td>\n",
       "      <td>AS03B103  /  Le salarié a plus d'une affectati...</td>\n",
       "      <td>date d'effet</td>\n",
       "      <td>Fiabilisation</td>\n",
       "      <td>Le salarié a plus d'une affectation principale...</td>\n",
       "      <td>NaN</td>\n",
       "    </tr>\n",
       "  </tbody>\n",
       "</table>\n",
       "</div>"
      ],
      "text/plain": [
       "           CLE_RECHV    ID    TIR   LOT INFO    Type_erreur Rubriques Hra  \\\n",
       "0  ZYCREATION A TORT  0001  TIR04  AG01   ZY  Compatibilité           NaN   \n",
       "1         ZYAS03B104  0002  TIR04  AG01   ZY    Utilisateur           NaN   \n",
       "2         ZYAS03B103  0003  TIR04  AG01   ZY    Utilisateur           NaN   \n",
       "\n",
       "                              Libellé ou Code erreur #VALEUR REJETEE  \\\n",
       "0                                    CREATION A TORT               …   \n",
       "1  AS03B104  /  L'agent n'a pas d'affectation pri...    date d'effet   \n",
       "2  AS03B103  /  Le salarié a plus d'une affectati...    date d'effet   \n",
       "\n",
       "           TYPOLOGIE                                    Analyse CISIRH   \\\n",
       "0   Erreur technique  CREATION A TORT : Dossier non créé en AG01. co...   \n",
       "1  Trou d'historique  Trou dans l'affection opérationnelle \\nMultipl...   \n",
       "2      Fiabilisation  Le salarié a plus d'une affectation principale...   \n",
       "\n",
       "                                         Commentaire  \n",
       "0  CET : Dossier présent uniquement dans la table...  \n",
       "1                                                NaN  \n",
       "2                                                NaN  "
      ]
     },
     "execution_count": 3,
     "metadata": {},
     "output_type": "execute_result"
    }
   ],
   "source": [
    "# affiche les 3 premières lignes.\n",
    "kapi_rejets[:3]"
   ]
  },
  {
   "cell_type": "markdown",
   "metadata": {},
   "source": [
    "La lecture du fichier se passe bien.\n",
    "Nous allons lire un autre fichier avec plus de données et avec des dates."
   ]
  },
  {
   "cell_type": "code",
   "execution_count": null,
   "metadata": {},
   "outputs": [],
   "source": [
    "rejets_lg11 = pd.read_csv('../data/LG11_report_MAALOT3_2018-11-07-11.22.21.csv', sep=';')\n",
    "# afficher les 5 premières lignes\n",
    "rejets_lg11[:5]"
   ]
  },
  {
   "cell_type": "markdown",
   "metadata": {},
   "source": [
    "Vous remarquerez que `read_csv` a un tas d'options qui nous permettent de lire correctement. Ici, nous allons\n",
    "\n",
    "* forcer le séparateur de colonne en `;` \n",
    "* Définissez l'encodage sur `'ANSI'` (la valeur par défaut est `'utf8'`)\n",
    "* Analyser les dates dans les colonnes 'ID1_OCCURRENCE' et 'DATE_REJET'.\n",
    "* Dites-lui que nos dates ont le jour en premier au lieu du mois en premier.\n",
    "* Réglez l'index sur la colonne 'ANCIEN_IDENTIFIANT'.\n"
   ]
  },
  {
   "cell_type": "code",
   "execution_count": null,
   "metadata": {},
   "outputs": [],
   "source": [
    "rejets_lg11 = pd.read_csv('../data/LG11_report_MAALOT3_2018-11-07-11.22.21.csv', sep=';', encoding='utf8', parse_dates=['ID1_OCCURRENCE','DATE_REJET'], dayfirst=True, index_col='ANCIEN_IDENTIFIANT')\n",
    "rejets_lg11[:3]"
   ]
  },
  {
   "cell_type": "markdown",
   "metadata": {},
   "source": [
    "# 1.2 Selectionner une  colonne"
   ]
  },
  {
   "cell_type": "markdown",
   "metadata": {},
   "source": [
    "Quand vous lisez un CSV, vous obtenez une sorte d'objet appelé un `DataFrame`, qui est composé de lignes et de colonnes. Vous obtenez les colonnes d'un DataFrame de la même manière que vous obtenez les éléments d'un dictionnaire.\n",
    "\n",
    "En voici un exemple :"
   ]
  },
  {
   "cell_type": "code",
   "execution_count": null,
   "metadata": {},
   "outputs": [],
   "source": [
    "rejets_lg11['IDENTIFIANT_DOSSIER_HRA']"
   ]
  },
  {
   "cell_type": "markdown",
   "metadata": {},
   "source": [
    "<style>\n",
    "    @font-face {\n",
    "        font-family: \"Computer Modern\";\n",
    "        src: url('http://mirrors.ctan.org/fonts/cm-unicode/fonts/otf/cmunss.otf');\n",
    "    }\n",
    "    div.cell{\n",
    "        width:800px;\n",
    "        margin-left:16% !important;\n",
    "        margin-right:auto;\n",
    "    }\n",
    "    h1 {\n",
    "        font-family: Helvetica, serif;\n",
    "    }\n",
    "    h4{\n",
    "        margin-top:12px;\n",
    "        margin-bottom: 3px;\n",
    "       }\n",
    "    div.text_cell_render{\n",
    "        font-family: Computer Modern, \"Helvetica Neue\", Arial, Helvetica, Geneva, sans-serif;\n",
    "        line-height: 145%;\n",
    "        font-size: 130%;\n",
    "        width:800px;\n",
    "        margin-left:auto;\n",
    "        margin-right:auto;\n",
    "    }\n",
    "    .CodeMirror{\n",
    "            font-family: \"Source Code Pro\", source-code-pro,Consolas, monospace;\n",
    "    }\n",
    "    .text_cell_render h5 {\n",
    "        font-weight: 300;\n",
    "        font-size: 22pt;\n",
    "        color: #4057A1;\n",
    "        font-style: italic;\n",
    "        margin-bottom: .5em;\n",
    "        margin-top: 0.5em;\n",
    "        display: block;\n",
    "    }\n",
    "    \n",
    "    .warning{\n",
    "        color: rgb( 240, 20, 20 )\n",
    "        }  "
   ]
  }
 ],
 "metadata": {
  "kernelspec": {
   "display_name": "Python 3",
   "language": "python",
   "name": "python3"
  },
  "language_info": {
   "codemirror_mode": {
    "name": "ipython",
    "version": 3
   },
   "file_extension": ".py",
   "mimetype": "text/x-python",
   "name": "python",
   "nbconvert_exporter": "python",
   "pygments_lexer": "ipython3",
   "version": "3.7.2"
  }
 },
 "nbformat": 4,
 "nbformat_minor": 2
}
